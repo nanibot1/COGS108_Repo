{
 "cells": [
  {
   "cell_type": "markdown",
   "id": "b809e2ce",
   "metadata": {},
   "source": [
    "# Cheers or Tears: Understanding the Influence of Alcohol on Student Grades\n",
    "\n",
    "# Permissions\n",
    "\n",
    "Place an `X` in the appropriate bracket below to specify if you would like your group's project to be made available to the public. (Note that student names will be included (but PIDs will be scraped from any groups who include their PIDs).\n",
    "\n",
    "* [ X ] YES - make available\n",
    "* [  ] NO - keep private\n",
    "\n",
    "# Names\n",
    "\n",
    "- Sheily Lim\n",
    "- Annie Tang\n",
    "- Ka Chun Leung\n",
    "- Victor Hsiao\n",
    "- Ji Hong Cha\n",
    "\n",
    "# Abstract\n",
    "\n",
    "Our research question was to find if there was any impact of alcohol consumption on the academic performance of students. After finding a dataset that contained student scores and alcohol consumption data, we decided to include some subquestions relating to other variables in the dataset, including how alcohol consumption related to other similar outcomes like fail rates and academic engagement. We did this in order to better understand if alcohol consumption does affect student performance, and if it does, what types/quantities of drinking are most impactful. \n",
    "\n",
    "Our first step was to clean the data and merge it to prepare it for analysis. Once the data was tidied, we could move forward with our exploratory data analysis. In our EDA, we aimed to get a more holistic view of what was actually contained in the datasets by looking for any outliers and the distributions of variables. Once we understood this, we were able to create plots that summarized the relationship between our outcome of interest, grades, with alcohol consumption, as well as any potential confounders.  \n",
    "\n",
    "In our analysis, we focused on the impact of alcohol consumption on academic performance, as measured by students' final grades. After controlling for various confounding factors such as parents' education level, time spent traveling from home to school, weekly study time, and other relevant variables, we found that higher levels of alcohol consumption during weekdays (Dalc) and weekends (Walc) were associated with lower final grades (G3). Specifically, our regression analysis showed a negative correlation between both workday and weekend alcohol consumption and academic performance, suggesting that students who consume more alcohol tend to have lower grades. This was consistent across both male and female students and did not significantly vary between those attending urban and rural schools.\n",
    "\n",
    "Our conclusions draw attention to the significant impact that alcohol consumption can have on students' academic outcomes. These findings underline the importance of addressing substance abuse in educational settings and developing targeted interventions to reduce alcohol consumption among students. Furthermore, our research suggests that educational support programs should not only focus on academic assistance but also consider the broader behavioral and lifestyle factors affecting student performance. Future research could expand on these findings by exploring the causal relationship between alcohol consumption and academic performance and by examining the effectiveness of different intervention strategies in reducing student alcohol consumption and improving educational outcomes"
   ]
  },
  {
   "cell_type": "markdown",
   "id": "4ffa0576",
   "metadata": {},
   "source": [
    "# Research Question"
   ]
  },
  {
   "cell_type": "markdown",
   "id": "79d06dc9",
   "metadata": {},
   "source": [
    "## Main Question: \n",
    "- How does alcohol consumption affect the academic performance of students?\n",
    "\n",
    "This question aims to explore the relationship between students' alcohol consumption levels and their academic outcomes, with a specific focus on measuring the impact of weekly alcohol intake (both weekday and weekend consumption) on students' overall academic performance, not limited to final grades but also including other indicators of academic success such as GPA, attendance records, and participation in extracurricular activities.\n",
    "\n",
    "## Subquestions:\n",
    "1. Weekday vs. Weekend Consumption Impact\n",
    "    - Is there a significant difference in the academic outcomes of students who consume alcohol at high levels versus those who consume at low levels during weekdays?\n",
    "    - Does weekend alcohol consumption have a different impact on academic outcomes compared to weekday consumption?\n",
    "    \n",
    "2. Alcohol Consumption Patterns and Academic Achievement\n",
    "    - How do patterns of alcohol consumption vary among students with different levels of academic achievement, as measured by a comprehensive assessment including GPA, attendance, and engagement in academic-related activities?"
   ]
  },
  {
   "cell_type": "markdown",
   "id": "085904a9",
   "metadata": {},
   "source": [
    "## Background and Prior Work"
   ]
  },
  {
   "cell_type": "markdown",
   "id": "bd50a08b",
   "metadata": {},
   "source": [
    "\n",
    "Alcohol consumption is regarded as integral for a university's social culture and one's college experience. According to the National Institute of Alcohol Abuse and Alcoholism, it has been reported that there are multiple factors that influence student drinking. Schools with strong Greek systems or prominent athletic programs tend to have students drink more than students at other schools, where alcohol consumption is highest among students living in fraternities or sororities.<a name=\"cite_ref-5\"></a>[<sup>5</sup>](#cite_note-5) College drinking can be harmful and impact multiple areas of a student's life. In our project, we study the effects of college drinking and alcohol consumption on one's academic performance.\n",
    "\n",
    "There have already been some studies done to analyze the impact of alcohol consumption on academic performance. The process of these studies have been to survey students on their alcoholic consumption and academic results, and then using different statistical methods to find an association between the two variables. However, when comparing the research with one another there have been mixed results, with the most common conclusions either being that there is a negative association between alcohol consumption and student academic performance or there not being a correlation between the two variables at all.\n",
    "\n",
    "One common conclusion is that alcohol consumption negatively affects academic performance. In a survey done by the CDC, the consensus is that students with higher grades are less likely to drink or engage in alcohol related behaviors than students with lower grades. It was reported that 12% of high school students with mostly A's had their first drink before the age of 13 (compared to 26% with mostly D's and F's), 27% reported current alcohol use (compared to 40%), and 13% reported current binge drinking (compared to 26%).<a name=\"cite_ref-4\"></a>[<sup>4</sup>](#cite_note-4) The survey proves association between alcohol consumption and academic performance, but not causation, which means that lower academic performance does not cause an increase in the likelihood that one engages in alcohol related behaviors, nor does alcohol consumption cause lower academic performance. This is valid because there can be other confounding variables that influence alcohol consumption and academic performance, such as family environment, household income, etc. Another study done by the University of Gloucester in the United Kingdom came to a similar conclusion as well. This study was measured based on multiple alcohol consumption indicators (length of time of and amount consumed during most recent drinking occasion, frequency of alcohol consumption, heavy episodic drinking, problem drinking) and multiple academic achievement indicators (importance of achieving good grades, actual academic performance, comparison of academic performance compared to peers).<a name=\"cite_ref-1\"></a>[<sup>1</sup>](#cite_note-1) They came to the conclusion that there are negative associations between alcohol consumption at any level and motivation for good grades and academic performance.<a name=\"cite_ref-1\"></a>[<sup>1</sup>](#cite_note-1) \n",
    "\n",
    "However, there are other studies that found that there is no link between alcohol consumption and academic performance. One study done at the University of Hampshire measured the effect on college students' alcohol use on their GPA, in which a survey was done asking students about their average alcohol consumption per week and cumulative GPA. <a name=\"cite_ref-3\"></a>[<sup>3</sup>](#cite_note-3) It was found that most students who took the survey reported that they drank an average of 2-3 days a week, and had an average cumulative GPA of 3.0 - 3.5.<a name=\"cite_ref-3\"></a>[<sup>3</sup>](#cite_note-3) The researchers came to the conclusion that there was no significant relationship between GPA and alcohol consumption. Another study done by researchers at Queen's University came to a similar conclusion, in which they measured based on the number of alcoholic drinks a student consumed each day per week, class absence, and academic performance. This study also included a confounding variable of house environment, in which they measure whether or not house environment affects alcoholic consumption. The results of the study were that there is not really a relationship between alcohol consumption and academic performance, but there was a correlation between house environment and alcohol consumption and absence rates.<a name=\"cite_ref-2\"></a>[<sup>2</sup>](#cite_note-2) This means that students who lived in an environment where their roommates drank more often were more likely to drink and miss class regularly.<a name=\"cite_ref-2\"></a>[<sup>2</sup>](#cite_note-2) The main limitations with each of these studies were the small sample size and a lack of understanding of students' drinking patterns. Further research, including a larger and more representative sample where research is done across multiple college campuses, will lead to a stronger conclusion. \n",
    "\n",
    "1. <a name=\"cite_note-1\"></a> [^](#cite_ref-1) El Ansari, W. (4 Oct 2013) Is Alcohol Consumption Associated with Poor Academic Achievement in University Students? *International Journal of Preventive Medicine*. https://www.ncbi.nlm.nih.gov/pmc/articles/PMC3843305/ \n",
    "2. <a name=\"cite_note-2\"></a> [^](#cite_ref-2) Carson, J. (Mar 2007) Group Alcohol Climate, Alcohol Consumption, and Student Performance *Queen's University*. https://www.researchgate.net/publication/232507482_Group_alcohol_climate_alcohol_consumption_and_student_performance#:~:text=No%20link%20between%20student%20alcohol%20consumption%20and%20student,between%20house%20alcohol%20climate%20and%20student%20alcohol%20consumption. \n",
    "3. <a name=\"cite_note-3\"></a> [^](#cite_ref-3) Coyman, J. (1 Sep 2015) The Effects of Alcohol Use on Academic Performance Among College Students  *University of New Hampshire*. https://scholars.unh.edu/cgi/viewcontent.cgi?article=1087&context=perspectives \n",
    "4. <a name=\"cite_note-4\"></a> [^](#cite_ref-4) (26 Jan 2021) Alcohol Behaviors and Academic Grades  *Centers for Disease Control and Prevention*. https://www.cdc.gov/healthyschools/health_and_academics/alcohol_use.htm \n",
    "5. <a name=\"cite_note-5\"></a> [^](#cite_ref-5) (Jan 2024) College Drinking  *National Institute on Alcohol Abuse and Alcoholism*. https://www.niaaa.nih.gov/publications/brochures-and-fact-sheets/college-drinking "
   ]
  },
  {
   "cell_type": "markdown",
   "id": "dff209bc",
   "metadata": {},
   "source": [
    "# Hypothesis\n"
   ]
  },
  {
   "cell_type": "markdown",
   "id": "19519ea2",
   "metadata": {},
   "source": [
    "\n",
    "## Main Hypothesis: \n",
    "- Higher levels of alcohol consumption are negatively correlated with students' academic performance, leading to lower final grades.\n",
    "\n",
    "This hypothesis is based on the premise that excessive alcohol consumption can impair cognitive functions, diminish study time, and lead to increased absenteeism, all of which detrimentally affect a student's ability to perform academically. This relationship is expected to manifest across various indicators of academic success, including grades, GPA, attendance, and extracurricular participation, and is supported by research linking substance use with academic challenges.\n",
    "\n",
    "## Hypotheses for Subquestions:\n",
    "1. __Weekday Consumption Hypothesis__: Higher alcohol consumption during weekdays is more negatively correlated with academic outcomes than lower levels of consumption, due to its proximity to academic obligations and its potential to disrupt weekly academic routines and responsibilities.\n",
    "\n",
    "2. __Weekend vs. Weekday Consumption Hypothesis__: Weekend alcohol consumption has a different impact on academic outcomes compared to weekday consumption, with the hypothesis being that while both negatively affect academic performance, weekday consumption has a more immediate and severe impact due to interference with regular study schedules and next-day academic obligations.\n",
    "\n",
    "3. __Patterns of Consumption and Academic Achievement Hypothesis__: There are discernible patterns of alcohol consumption among students with varying levels of academic achievement, with the expectation that students with higher academic engagement and success (broadly measured through a composite of grades, GPA, attendance, and extracurricular activity) might exhibit different alcohol consumption behaviors compared to their lower-achieving counterparts. This hypothesis seeks to explore whether high achievers consume less alcohol due to prioritizing their academic and extracurricular commitments or if patterns of consumption do not significantly vary by achievement level."
   ]
  },
  {
   "cell_type": "markdown",
   "id": "607483a8",
   "metadata": {},
   "source": [
    "# Data"
   ]
  },
  {
   "cell_type": "markdown",
   "id": "57d2bc16",
   "metadata": {},
   "source": [
    "## Data overview\n",
    "\n",
    "For each dataset include the following information\n",
    "- Dataset #1\n",
    "  - Dataset Name: student-mat.csv\n",
    "  - Link to the dataset: (https://www.kaggle.com/datasets/uciml/student-alcohol-consumption?select=student-mat.csv)\n",
    "  - Number of observations: 395\n",
    "  - Number of variables: 33\n",
    "- Dataset #2 (if you have more than one!)\n",
    "  - Dataset Name: student-por.csv\n",
    "  - Link to the dataset: (https://www.kaggle.com/datasets/uciml/student-alcohol-consumption?select=student-por.csv)\n",
    "  - Number of observations: 649\n",
    "  - Number of variables: 33\n",
    "\n",
    "\n",
    "Dataset 1 contains observations at the student level with students from two secondary schools. This dataset has students enrolled in a maths class and their grades. Some important variables included are alcohol consumption (both weekday and weekend), term 1 and 2 grades, parents education (which can be a proxy for SES), and some other indicators of past academic performace. Since we have access to both term one and term two grades, we could potentially calculate the change in alcohol consumption and the change in grades per student and do a paired t-test. \n",
    "\n",
    "Dataset 2 contains the same variables as dataset 1, but the observations are students enrolled in a portugese language class. To note, this study was conducted in Portugal. Because of this, external validity may be limited or need to be put under high scrutiny. \n",
    "\n",
    "The datasets seem to be kept in pretty tidy format, so minimal cleaning/wrangling will have to be done. We should search the data for NAs, and if there are a high amount, we can decide if we want to remove observations with any NAs or if they should meet a certain threshold. We will also need to ensure all data is in the correct format (numeric variables are stored as int/float, etc). Some data is encoded weirdly (fam size is a binary but the way it is stored is not intuitive), so it could be better recoded as a simple 0/1. \n",
    "\n",
    "Since we have two datasets, they will need to be merged. There are several students that overlap between both datasets, however some are unique to each. We would use their unique identifiers to match the students in both datasets and merge them. This poses a challenge to training the model, because we don't want to double count any students and let them get trained in the model twice. However, if we don't allow them to count for math and portugese, we will have to decide which class we choose to include their grades for. \n",
    "\n",
    "The most fair/robust solution would probably to randomly generate 0's and 1's for students who have both math and portugese grades. If they are assigned 0, we use their math grade. If they are assigned 1, we use their portugese grade. "
   ]
  },
  {
   "cell_type": "markdown",
   "id": "f7f26652",
   "metadata": {},
   "source": [
    "## Math Scores Dataset"
   ]
  },
  {
   "cell_type": "markdown",
   "id": "453a6bbc",
   "metadata": {},
   "source": [
    "We first must load in all necessary packages."
   ]
  },
  {
   "cell_type": "code",
   "execution_count": 113,
   "id": "6996bf64",
   "metadata": {},
   "outputs": [],
   "source": [
    "## YOUR CODE TO LOAD/CLEAN/TIDY/WRANGLE THE DATA GOES HERE\n",
    "## FEEL FREE TO ADD MULTIPLE CELLS PER SECTION \n",
    "import pandas as pd\n",
    "import random\n",
    "import matplotlib.pyplot as plt\n",
    "import seaborn as sns\n",
    "import scipy.stats as stats\n",
    "from scipy.stats import ttest_ind, chisquare, normaltest\n",
    "import statsmodels.api as sm\n",
    "import patsy\n",
    "import numpy as np\n",
    "\n",
    "from sklearn.svm import SVC\n",
    "from sklearn.model_selection import train_test_split\n",
    "from sklearn.metrics import confusion_matrix, classification_report, precision_recall_fscore_support, ConfusionMatrixDisplay"
   ]
  },
  {
   "cell_type": "markdown",
   "id": "b9a6b136",
   "metadata": {},
   "source": [
    "We want to take a quick look at the data. After examining it, there is no ID to uniquely identify each student, so we create that here."
   ]
  },
  {
   "cell_type": "code",
   "execution_count": 114,
   "id": "0b15a4e5",
   "metadata": {},
   "outputs": [],
   "source": [
    "mat_df = pd.read_csv(\"student-mat.csv\")\n",
    "mat_df.head()\n",
    "\n",
    "mat_df[\"ID_m\"] = list(range(1, len(mat_df) + 1))"
   ]
  },
  {
   "cell_type": "code",
   "execution_count": 115,
   "id": "c5a0ed79",
   "metadata": {},
   "outputs": [
    {
     "data": {
      "text/html": [
       "<div>\n",
       "<style scoped>\n",
       "    .dataframe tbody tr th:only-of-type {\n",
       "        vertical-align: middle;\n",
       "    }\n",
       "\n",
       "    .dataframe tbody tr th {\n",
       "        vertical-align: top;\n",
       "    }\n",
       "\n",
       "    .dataframe thead th {\n",
       "        text-align: right;\n",
       "    }\n",
       "</style>\n",
       "<table border=\"1\" class=\"dataframe\">\n",
       "  <thead>\n",
       "    <tr style=\"text-align: right;\">\n",
       "      <th></th>\n",
       "      <th>school</th>\n",
       "      <th>sex</th>\n",
       "      <th>age</th>\n",
       "      <th>address</th>\n",
       "      <th>famsize</th>\n",
       "      <th>Pstatus</th>\n",
       "      <th>Medu</th>\n",
       "      <th>Fedu</th>\n",
       "      <th>Mjob</th>\n",
       "      <th>Fjob</th>\n",
       "      <th>...</th>\n",
       "      <th>freetime</th>\n",
       "      <th>goout</th>\n",
       "      <th>Dalc</th>\n",
       "      <th>Walc</th>\n",
       "      <th>health</th>\n",
       "      <th>absences</th>\n",
       "      <th>G1</th>\n",
       "      <th>G2</th>\n",
       "      <th>G3</th>\n",
       "      <th>ID_m</th>\n",
       "    </tr>\n",
       "  </thead>\n",
       "  <tbody>\n",
       "  </tbody>\n",
       "</table>\n",
       "<p>0 rows × 34 columns</p>\n",
       "</div>"
      ],
      "text/plain": [
       "Empty DataFrame\n",
       "Columns: [school, sex, age, address, famsize, Pstatus, Medu, Fedu, Mjob, Fjob, reason, guardian, traveltime, studytime, failures, schoolsup, famsup, paid, activities, nursery, higher, internet, romantic, famrel, freetime, goout, Dalc, Walc, health, absences, G1, G2, G3, ID_m]\n",
       "Index: []\n",
       "\n",
       "[0 rows x 34 columns]"
      ]
     },
     "execution_count": 115,
     "metadata": {},
     "output_type": "execute_result"
    }
   ],
   "source": [
    "mat_df[mat_df.isna().any(axis = 1)]"
   ]
  },
  {
   "cell_type": "markdown",
   "id": "3f1a34bc",
   "metadata": {},
   "source": [
    "As we can see here, there are no rows which have any NaNs at all. This means we do not have to remove any NaN's from the dataset. "
   ]
  },
  {
   "cell_type": "markdown",
   "id": "ba67fef1",
   "metadata": {},
   "source": [
    "## Language Scores Dataset"
   ]
  },
  {
   "cell_type": "markdown",
   "id": "aa1d6940",
   "metadata": {},
   "source": [
    "We want to take a quick look at the data. After examining it, there is no ID to uniquely identify each student, so we create that here."
   ]
  },
  {
   "cell_type": "code",
   "execution_count": 116,
   "id": "a0e4229a",
   "metadata": {},
   "outputs": [
    {
     "data": {
      "text/html": [
       "<div>\n",
       "<style scoped>\n",
       "    .dataframe tbody tr th:only-of-type {\n",
       "        vertical-align: middle;\n",
       "    }\n",
       "\n",
       "    .dataframe tbody tr th {\n",
       "        vertical-align: top;\n",
       "    }\n",
       "\n",
       "    .dataframe thead th {\n",
       "        text-align: right;\n",
       "    }\n",
       "</style>\n",
       "<table border=\"1\" class=\"dataframe\">\n",
       "  <thead>\n",
       "    <tr style=\"text-align: right;\">\n",
       "      <th></th>\n",
       "      <th>school</th>\n",
       "      <th>sex</th>\n",
       "      <th>age</th>\n",
       "      <th>address</th>\n",
       "      <th>famsize</th>\n",
       "      <th>Pstatus</th>\n",
       "      <th>Medu</th>\n",
       "      <th>Fedu</th>\n",
       "      <th>Mjob</th>\n",
       "      <th>Fjob</th>\n",
       "      <th>...</th>\n",
       "      <th>freetime</th>\n",
       "      <th>goout</th>\n",
       "      <th>Dalc</th>\n",
       "      <th>Walc</th>\n",
       "      <th>health</th>\n",
       "      <th>absences</th>\n",
       "      <th>G1</th>\n",
       "      <th>G2</th>\n",
       "      <th>G3</th>\n",
       "      <th>ID_p</th>\n",
       "    </tr>\n",
       "  </thead>\n",
       "  <tbody>\n",
       "    <tr>\n",
       "      <th>0</th>\n",
       "      <td>GP</td>\n",
       "      <td>F</td>\n",
       "      <td>18</td>\n",
       "      <td>U</td>\n",
       "      <td>GT3</td>\n",
       "      <td>A</td>\n",
       "      <td>4</td>\n",
       "      <td>4</td>\n",
       "      <td>at_home</td>\n",
       "      <td>teacher</td>\n",
       "      <td>...</td>\n",
       "      <td>3</td>\n",
       "      <td>4</td>\n",
       "      <td>1</td>\n",
       "      <td>1</td>\n",
       "      <td>3</td>\n",
       "      <td>4</td>\n",
       "      <td>0</td>\n",
       "      <td>11</td>\n",
       "      <td>11</td>\n",
       "      <td>1</td>\n",
       "    </tr>\n",
       "    <tr>\n",
       "      <th>1</th>\n",
       "      <td>GP</td>\n",
       "      <td>F</td>\n",
       "      <td>17</td>\n",
       "      <td>U</td>\n",
       "      <td>GT3</td>\n",
       "      <td>T</td>\n",
       "      <td>1</td>\n",
       "      <td>1</td>\n",
       "      <td>at_home</td>\n",
       "      <td>other</td>\n",
       "      <td>...</td>\n",
       "      <td>3</td>\n",
       "      <td>3</td>\n",
       "      <td>1</td>\n",
       "      <td>1</td>\n",
       "      <td>3</td>\n",
       "      <td>2</td>\n",
       "      <td>9</td>\n",
       "      <td>11</td>\n",
       "      <td>11</td>\n",
       "      <td>2</td>\n",
       "    </tr>\n",
       "    <tr>\n",
       "      <th>2</th>\n",
       "      <td>GP</td>\n",
       "      <td>F</td>\n",
       "      <td>15</td>\n",
       "      <td>U</td>\n",
       "      <td>LE3</td>\n",
       "      <td>T</td>\n",
       "      <td>1</td>\n",
       "      <td>1</td>\n",
       "      <td>at_home</td>\n",
       "      <td>other</td>\n",
       "      <td>...</td>\n",
       "      <td>3</td>\n",
       "      <td>2</td>\n",
       "      <td>2</td>\n",
       "      <td>3</td>\n",
       "      <td>3</td>\n",
       "      <td>6</td>\n",
       "      <td>12</td>\n",
       "      <td>13</td>\n",
       "      <td>12</td>\n",
       "      <td>3</td>\n",
       "    </tr>\n",
       "    <tr>\n",
       "      <th>3</th>\n",
       "      <td>GP</td>\n",
       "      <td>F</td>\n",
       "      <td>15</td>\n",
       "      <td>U</td>\n",
       "      <td>GT3</td>\n",
       "      <td>T</td>\n",
       "      <td>4</td>\n",
       "      <td>2</td>\n",
       "      <td>health</td>\n",
       "      <td>services</td>\n",
       "      <td>...</td>\n",
       "      <td>2</td>\n",
       "      <td>2</td>\n",
       "      <td>1</td>\n",
       "      <td>1</td>\n",
       "      <td>5</td>\n",
       "      <td>0</td>\n",
       "      <td>14</td>\n",
       "      <td>14</td>\n",
       "      <td>14</td>\n",
       "      <td>4</td>\n",
       "    </tr>\n",
       "    <tr>\n",
       "      <th>4</th>\n",
       "      <td>GP</td>\n",
       "      <td>F</td>\n",
       "      <td>16</td>\n",
       "      <td>U</td>\n",
       "      <td>GT3</td>\n",
       "      <td>T</td>\n",
       "      <td>3</td>\n",
       "      <td>3</td>\n",
       "      <td>other</td>\n",
       "      <td>other</td>\n",
       "      <td>...</td>\n",
       "      <td>3</td>\n",
       "      <td>2</td>\n",
       "      <td>1</td>\n",
       "      <td>2</td>\n",
       "      <td>5</td>\n",
       "      <td>0</td>\n",
       "      <td>11</td>\n",
       "      <td>13</td>\n",
       "      <td>13</td>\n",
       "      <td>5</td>\n",
       "    </tr>\n",
       "  </tbody>\n",
       "</table>\n",
       "<p>5 rows × 34 columns</p>\n",
       "</div>"
      ],
      "text/plain": [
       "  school sex  age address famsize Pstatus  Medu  Fedu     Mjob      Fjob  ...  \\\n",
       "0     GP   F   18       U     GT3       A     4     4  at_home   teacher  ...   \n",
       "1     GP   F   17       U     GT3       T     1     1  at_home     other  ...   \n",
       "2     GP   F   15       U     LE3       T     1     1  at_home     other  ...   \n",
       "3     GP   F   15       U     GT3       T     4     2   health  services  ...   \n",
       "4     GP   F   16       U     GT3       T     3     3    other     other  ...   \n",
       "\n",
       "  freetime goout  Dalc  Walc  health absences  G1  G2  G3 ID_p  \n",
       "0        3     4     1     1       3        4   0  11  11    1  \n",
       "1        3     3     1     1       3        2   9  11  11    2  \n",
       "2        3     2     2     3       3        6  12  13  12    3  \n",
       "3        2     2     1     1       5        0  14  14  14    4  \n",
       "4        3     2     1     2       5        0  11  13  13    5  \n",
       "\n",
       "[5 rows x 34 columns]"
      ]
     },
     "execution_count": 116,
     "metadata": {},
     "output_type": "execute_result"
    }
   ],
   "source": [
    "## YOUR CODE TO LOAD/CLEAN/TIDY/WRANGLE THE DATA GOES HERE\n",
    "## FEEL FREE TO ADD MULTIPLE CELLS PER SECTION \n",
    "por_df = pd.read_csv(\"student-por.csv\")\n",
    "por_df.head()\n",
    "\n",
    "# add ID \n",
    "por_df[\"ID_p\"] = list(range(1, len(por_df) +1))\n",
    "\n",
    "por_df.head()"
   ]
  },
  {
   "cell_type": "code",
   "execution_count": 117,
   "id": "79b74ee4",
   "metadata": {},
   "outputs": [
    {
     "data": {
      "text/html": [
       "<div>\n",
       "<style scoped>\n",
       "    .dataframe tbody tr th:only-of-type {\n",
       "        vertical-align: middle;\n",
       "    }\n",
       "\n",
       "    .dataframe tbody tr th {\n",
       "        vertical-align: top;\n",
       "    }\n",
       "\n",
       "    .dataframe thead th {\n",
       "        text-align: right;\n",
       "    }\n",
       "</style>\n",
       "<table border=\"1\" class=\"dataframe\">\n",
       "  <thead>\n",
       "    <tr style=\"text-align: right;\">\n",
       "      <th></th>\n",
       "      <th>school</th>\n",
       "      <th>sex</th>\n",
       "      <th>age</th>\n",
       "      <th>address</th>\n",
       "      <th>famsize</th>\n",
       "      <th>Pstatus</th>\n",
       "      <th>Medu</th>\n",
       "      <th>Fedu</th>\n",
       "      <th>Mjob</th>\n",
       "      <th>Fjob</th>\n",
       "      <th>...</th>\n",
       "      <th>freetime</th>\n",
       "      <th>goout</th>\n",
       "      <th>Dalc</th>\n",
       "      <th>Walc</th>\n",
       "      <th>health</th>\n",
       "      <th>absences</th>\n",
       "      <th>G1</th>\n",
       "      <th>G2</th>\n",
       "      <th>G3</th>\n",
       "      <th>ID_p</th>\n",
       "    </tr>\n",
       "  </thead>\n",
       "  <tbody>\n",
       "  </tbody>\n",
       "</table>\n",
       "<p>0 rows × 34 columns</p>\n",
       "</div>"
      ],
      "text/plain": [
       "Empty DataFrame\n",
       "Columns: [school, sex, age, address, famsize, Pstatus, Medu, Fedu, Mjob, Fjob, reason, guardian, traveltime, studytime, failures, schoolsup, famsup, paid, activities, nursery, higher, internet, romantic, famrel, freetime, goout, Dalc, Walc, health, absences, G1, G2, G3, ID_p]\n",
       "Index: []\n",
       "\n",
       "[0 rows x 34 columns]"
      ]
     },
     "execution_count": 117,
     "metadata": {},
     "output_type": "execute_result"
    }
   ],
   "source": [
    "por_df[por_df.isna().any(axis = 1)]"
   ]
  },
  {
   "cell_type": "markdown",
   "id": "6835f769",
   "metadata": {},
   "source": [
    "Similar to the dataset containing math grades, this dataset also does not have any rows which contains NaNs."
   ]
  },
  {
   "cell_type": "markdown",
   "id": "d44b9a2e",
   "metadata": {},
   "source": [
    "We want to do an outer join to merge our two dataframes together. There are certain unique combinations of columns which uniquely identify each student. We want this dataframe to contain all students from both classes, which is why we perform an  outer join. \n",
    "\n",
    "Because some students overlap (they have both math and language grades), we need to isolate the students which solely have math grades, solely have language grades, and those who have both. The reason for this is because we do not want to double count anything (when training a model later, this could bias the model). \n",
    "\n",
    "To bypass this issue, we will isolate those with both math and language grades. We will randomly assign each student to have their data only be counted for math OR language, as to avoid any bias in the models.\n",
    "\n",
    "Our first step is to isolate only math students."
   ]
  },
  {
   "cell_type": "code",
   "execution_count": 118,
   "id": "46fe9058",
   "metadata": {},
   "outputs": [
    {
     "data": {
      "text/plain": [
       "(25, 55)"
      ]
     },
     "execution_count": 118,
     "metadata": {},
     "output_type": "execute_result"
    }
   ],
   "source": [
    "# completely join both dataframes together\n",
    "outer = mat_df.merge(por_df, how = \"outer\", on = [\"school\",\"sex\",\"age\",\"address\",\"famsize\",\"Pstatus\",\"Medu\",\"Fedu\",\"Mjob\",\"Fjob\",\"reason\",\"nursery\",\"internet\"], indicator=True)\n",
    "\n",
    "# subset to students who only have math grades\n",
    "math_only_temp = outer[(outer._merge== \"left_only\")].drop(\"_merge\", axis=1)\n",
    "\n",
    "math_only_temp.tail()\n",
    "\n",
    "math_only_temp.shape"
   ]
  },
  {
   "cell_type": "markdown",
   "id": "31c56e5e",
   "metadata": {},
   "source": [
    "There are 25 students who are only math students. "
   ]
  },
  {
   "cell_type": "code",
   "execution_count": 119,
   "id": "b5c1e69f",
   "metadata": {},
   "outputs": [
    {
     "data": {
      "text/plain": [
       "(275, 55)"
      ]
     },
     "execution_count": 119,
     "metadata": {},
     "output_type": "execute_result"
    }
   ],
   "source": [
    "# subset to students who only have portugese grades\n",
    "por_only_temp = outer[(outer._merge == \"right_only\")].drop(\"_merge\", axis = 1)\n",
    "por_only_temp.head()\n",
    "por_only_temp.shape"
   ]
  },
  {
   "cell_type": "markdown",
   "id": "72912e0c",
   "metadata": {},
   "source": [
    "There are 275 students who are only portugese students.\n",
    "\n",
    "Our next step is to isolate all students who have both portugese and math grades. \n",
    "From there, we will randomly assign each a number between 0-1, then round each up or down to 0 or 1"
   ]
  },
  {
   "cell_type": "code",
   "execution_count": 120,
   "id": "6cf338f8",
   "metadata": {},
   "outputs": [
    {
     "data": {
      "text/html": [
       "<div>\n",
       "<style scoped>\n",
       "    .dataframe tbody tr th:only-of-type {\n",
       "        vertical-align: middle;\n",
       "    }\n",
       "\n",
       "    .dataframe tbody tr th {\n",
       "        vertical-align: top;\n",
       "    }\n",
       "\n",
       "    .dataframe thead th {\n",
       "        text-align: right;\n",
       "    }\n",
       "</style>\n",
       "<table border=\"1\" class=\"dataframe\">\n",
       "  <thead>\n",
       "    <tr style=\"text-align: right;\">\n",
       "      <th></th>\n",
       "      <th>school</th>\n",
       "      <th>sex</th>\n",
       "      <th>age</th>\n",
       "      <th>address</th>\n",
       "      <th>famsize</th>\n",
       "      <th>Pstatus</th>\n",
       "      <th>Medu</th>\n",
       "      <th>Fedu</th>\n",
       "      <th>Mjob</th>\n",
       "      <th>Fjob</th>\n",
       "      <th>...</th>\n",
       "      <th>freetime_y</th>\n",
       "      <th>goout_y</th>\n",
       "      <th>Dalc_y</th>\n",
       "      <th>Walc_y</th>\n",
       "      <th>health_y</th>\n",
       "      <th>absences_y</th>\n",
       "      <th>G1_y</th>\n",
       "      <th>G2_y</th>\n",
       "      <th>G3_y</th>\n",
       "      <th>ID_p</th>\n",
       "    </tr>\n",
       "  </thead>\n",
       "  <tbody>\n",
       "    <tr>\n",
       "      <th>0</th>\n",
       "      <td>GP</td>\n",
       "      <td>F</td>\n",
       "      <td>18</td>\n",
       "      <td>U</td>\n",
       "      <td>GT3</td>\n",
       "      <td>A</td>\n",
       "      <td>4</td>\n",
       "      <td>4</td>\n",
       "      <td>at_home</td>\n",
       "      <td>teacher</td>\n",
       "      <td>...</td>\n",
       "      <td>3.0</td>\n",
       "      <td>4.0</td>\n",
       "      <td>1.0</td>\n",
       "      <td>1.0</td>\n",
       "      <td>3.0</td>\n",
       "      <td>4.0</td>\n",
       "      <td>0.0</td>\n",
       "      <td>11.0</td>\n",
       "      <td>11.0</td>\n",
       "      <td>1.0</td>\n",
       "    </tr>\n",
       "    <tr>\n",
       "      <th>1</th>\n",
       "      <td>GP</td>\n",
       "      <td>F</td>\n",
       "      <td>17</td>\n",
       "      <td>U</td>\n",
       "      <td>GT3</td>\n",
       "      <td>T</td>\n",
       "      <td>1</td>\n",
       "      <td>1</td>\n",
       "      <td>at_home</td>\n",
       "      <td>other</td>\n",
       "      <td>...</td>\n",
       "      <td>3.0</td>\n",
       "      <td>3.0</td>\n",
       "      <td>1.0</td>\n",
       "      <td>1.0</td>\n",
       "      <td>3.0</td>\n",
       "      <td>2.0</td>\n",
       "      <td>9.0</td>\n",
       "      <td>11.0</td>\n",
       "      <td>11.0</td>\n",
       "      <td>2.0</td>\n",
       "    </tr>\n",
       "    <tr>\n",
       "      <th>2</th>\n",
       "      <td>GP</td>\n",
       "      <td>F</td>\n",
       "      <td>15</td>\n",
       "      <td>U</td>\n",
       "      <td>LE3</td>\n",
       "      <td>T</td>\n",
       "      <td>1</td>\n",
       "      <td>1</td>\n",
       "      <td>at_home</td>\n",
       "      <td>other</td>\n",
       "      <td>...</td>\n",
       "      <td>3.0</td>\n",
       "      <td>2.0</td>\n",
       "      <td>2.0</td>\n",
       "      <td>3.0</td>\n",
       "      <td>3.0</td>\n",
       "      <td>6.0</td>\n",
       "      <td>12.0</td>\n",
       "      <td>13.0</td>\n",
       "      <td>12.0</td>\n",
       "      <td>3.0</td>\n",
       "    </tr>\n",
       "    <tr>\n",
       "      <th>3</th>\n",
       "      <td>GP</td>\n",
       "      <td>F</td>\n",
       "      <td>15</td>\n",
       "      <td>U</td>\n",
       "      <td>GT3</td>\n",
       "      <td>T</td>\n",
       "      <td>4</td>\n",
       "      <td>2</td>\n",
       "      <td>health</td>\n",
       "      <td>services</td>\n",
       "      <td>...</td>\n",
       "      <td>2.0</td>\n",
       "      <td>2.0</td>\n",
       "      <td>1.0</td>\n",
       "      <td>1.0</td>\n",
       "      <td>5.0</td>\n",
       "      <td>0.0</td>\n",
       "      <td>14.0</td>\n",
       "      <td>14.0</td>\n",
       "      <td>14.0</td>\n",
       "      <td>4.0</td>\n",
       "    </tr>\n",
       "    <tr>\n",
       "      <th>4</th>\n",
       "      <td>GP</td>\n",
       "      <td>F</td>\n",
       "      <td>16</td>\n",
       "      <td>U</td>\n",
       "      <td>GT3</td>\n",
       "      <td>T</td>\n",
       "      <td>3</td>\n",
       "      <td>3</td>\n",
       "      <td>other</td>\n",
       "      <td>other</td>\n",
       "      <td>...</td>\n",
       "      <td>3.0</td>\n",
       "      <td>2.0</td>\n",
       "      <td>1.0</td>\n",
       "      <td>2.0</td>\n",
       "      <td>5.0</td>\n",
       "      <td>0.0</td>\n",
       "      <td>11.0</td>\n",
       "      <td>13.0</td>\n",
       "      <td>13.0</td>\n",
       "      <td>5.0</td>\n",
       "    </tr>\n",
       "  </tbody>\n",
       "</table>\n",
       "<p>5 rows × 55 columns</p>\n",
       "</div>"
      ],
      "text/plain": [
       "  school sex  age address famsize Pstatus  Medu  Fedu     Mjob      Fjob  ...  \\\n",
       "0     GP   F   18       U     GT3       A     4     4  at_home   teacher  ...   \n",
       "1     GP   F   17       U     GT3       T     1     1  at_home     other  ...   \n",
       "2     GP   F   15       U     LE3       T     1     1  at_home     other  ...   \n",
       "3     GP   F   15       U     GT3       T     4     2   health  services  ...   \n",
       "4     GP   F   16       U     GT3       T     3     3    other     other  ...   \n",
       "\n",
       "  freetime_y goout_y  Dalc_y  Walc_y  health_y absences_y  G1_y  G2_y  G3_y  \\\n",
       "0        3.0     4.0     1.0     1.0       3.0        4.0   0.0  11.0  11.0   \n",
       "1        3.0     3.0     1.0     1.0       3.0        2.0   9.0  11.0  11.0   \n",
       "2        3.0     2.0     2.0     3.0       3.0        6.0  12.0  13.0  12.0   \n",
       "3        2.0     2.0     1.0     1.0       5.0        0.0  14.0  14.0  14.0   \n",
       "4        3.0     2.0     1.0     2.0       5.0        0.0  11.0  13.0  13.0   \n",
       "\n",
       "  ID_p  \n",
       "0  1.0  \n",
       "1  2.0  \n",
       "2  3.0  \n",
       "3  4.0  \n",
       "4  5.0  \n",
       "\n",
       "[5 rows x 55 columns]"
      ]
     },
     "execution_count": 120,
     "metadata": {},
     "output_type": "execute_result"
    }
   ],
   "source": [
    "# subset to students who have both portugese and math grades\n",
    "both_temp = outer[(outer._merge == \"both\")].drop(\"_merge\", axis = 1)\n",
    "both_temp.head()\n",
    "\n",
    "# randomly assign each 0,1\n",
    "# rand_math = for all the 1's get the ID_m\n",
    "# rand_por = for all the 0's, get the ID_p\n",
    "\n",
    "# add \"Subject\" column to both por_df and math_df\n",
    "\n",
    "# go to mat_df and select only those with ID_m from math_only AND rand_math\n",
    "# go to por_df and select only those with ID_p from por_only AND rand_por\n",
    "\n",
    "# concat two df "
   ]
  },
  {
   "cell_type": "code",
   "execution_count": 121,
   "id": "90e606cd",
   "metadata": {},
   "outputs": [],
   "source": [
    "random.seed(37)\n",
    "\n",
    "# assign 0 or 1 to each student\n",
    "both_temp[\"rand\"] = [int(random.random() >.5) for i in range(0, len(both_temp))]\n",
    "\n",
    "# if they are assigned 1, collect their math ID\n",
    "rand_math_ID = list(both_temp[(both_temp[\"rand\"] == 1)][\"ID_m\"])\n",
    "\n",
    "# if assigned 0, collect their portugese ID\n",
    "rand_por_ID = list(both_temp[(both_temp[\"rand\"] == 0)][\"ID_p\"])"
   ]
  },
  {
   "cell_type": "code",
   "execution_count": 122,
   "id": "f623ce2b",
   "metadata": {},
   "outputs": [],
   "source": [
    "# create a new column to identify subject students grade is for\n",
    "mat_df[\"Subject\"] = \"Math\"\n",
    "por_df[\"Subject\"] = \"Portugese\""
   ]
  },
  {
   "cell_type": "markdown",
   "id": "f07d0d27",
   "metadata": {},
   "source": [
    "Next, combine the IDs of the math only students and the randomly selected math students. Do the same for language students"
   ]
  },
  {
   "cell_type": "code",
   "execution_count": 123,
   "id": "378fd6b6",
   "metadata": {},
   "outputs": [],
   "source": [
    "# get ID's of those only enrolled in math\n",
    "math_only_ID = list(math_only_temp[\"ID_m\"])\n",
    "# concat all the ID's of math students\n",
    "all_math_ID = math_only_ID + rand_math_ID\n",
    "\n",
    "# get ID's of those only enrolled in portugese\n",
    "por_only_ID = list(por_only_temp[\"ID_p\"])\n",
    "# concat all the ID's of the portugese students\n",
    "all_por_ID = por_only_ID + rand_por_ID"
   ]
  },
  {
   "cell_type": "markdown",
   "id": "7f6bc8ea",
   "metadata": {},
   "source": [
    "Now, get the dataframe with the only the selected IDs "
   ]
  },
  {
   "cell_type": "code",
   "execution_count": 124,
   "id": "4ec02bd5",
   "metadata": {},
   "outputs": [],
   "source": [
    "# get the dataframes with all the selected IDs\n",
    "por_only_df = por_df[por_df[\"ID_p\"].isin(all_por_ID)]\n",
    "mat_only_df = mat_df[mat_df[\"ID_m\"].isin(all_math_ID)]"
   ]
  },
  {
   "cell_type": "markdown",
   "id": "935e1d87",
   "metadata": {},
   "source": [
    "Concatenate the two dataframes together to get the final cleaned and wrangled dataframe."
   ]
  },
  {
   "cell_type": "code",
   "execution_count": 125,
   "id": "de3005fb",
   "metadata": {},
   "outputs": [
    {
     "data": {
      "text/html": [
       "<div>\n",
       "<style scoped>\n",
       "    .dataframe tbody tr th:only-of-type {\n",
       "        vertical-align: middle;\n",
       "    }\n",
       "\n",
       "    .dataframe tbody tr th {\n",
       "        vertical-align: top;\n",
       "    }\n",
       "\n",
       "    .dataframe thead th {\n",
       "        text-align: right;\n",
       "    }\n",
       "</style>\n",
       "<table border=\"1\" class=\"dataframe\">\n",
       "  <thead>\n",
       "    <tr style=\"text-align: right;\">\n",
       "      <th></th>\n",
       "      <th>school</th>\n",
       "      <th>sex</th>\n",
       "      <th>age</th>\n",
       "      <th>address</th>\n",
       "      <th>famsize</th>\n",
       "      <th>Pstatus</th>\n",
       "      <th>Medu</th>\n",
       "      <th>Fedu</th>\n",
       "      <th>Mjob</th>\n",
       "      <th>Fjob</th>\n",
       "      <th>...</th>\n",
       "      <th>Dalc</th>\n",
       "      <th>Walc</th>\n",
       "      <th>health</th>\n",
       "      <th>absences</th>\n",
       "      <th>G1</th>\n",
       "      <th>G2</th>\n",
       "      <th>G3</th>\n",
       "      <th>ID_p</th>\n",
       "      <th>Subject</th>\n",
       "      <th>ID_m</th>\n",
       "    </tr>\n",
       "  </thead>\n",
       "  <tbody>\n",
       "    <tr>\n",
       "      <th>1</th>\n",
       "      <td>GP</td>\n",
       "      <td>F</td>\n",
       "      <td>17</td>\n",
       "      <td>U</td>\n",
       "      <td>GT3</td>\n",
       "      <td>T</td>\n",
       "      <td>1</td>\n",
       "      <td>1</td>\n",
       "      <td>at_home</td>\n",
       "      <td>other</td>\n",
       "      <td>...</td>\n",
       "      <td>1</td>\n",
       "      <td>1</td>\n",
       "      <td>3</td>\n",
       "      <td>2</td>\n",
       "      <td>9</td>\n",
       "      <td>11</td>\n",
       "      <td>11</td>\n",
       "      <td>2.0</td>\n",
       "      <td>Portugese</td>\n",
       "      <td>NaN</td>\n",
       "    </tr>\n",
       "    <tr>\n",
       "      <th>7</th>\n",
       "      <td>GP</td>\n",
       "      <td>F</td>\n",
       "      <td>17</td>\n",
       "      <td>U</td>\n",
       "      <td>GT3</td>\n",
       "      <td>A</td>\n",
       "      <td>4</td>\n",
       "      <td>4</td>\n",
       "      <td>other</td>\n",
       "      <td>teacher</td>\n",
       "      <td>...</td>\n",
       "      <td>1</td>\n",
       "      <td>1</td>\n",
       "      <td>1</td>\n",
       "      <td>2</td>\n",
       "      <td>10</td>\n",
       "      <td>13</td>\n",
       "      <td>13</td>\n",
       "      <td>8.0</td>\n",
       "      <td>Portugese</td>\n",
       "      <td>NaN</td>\n",
       "    </tr>\n",
       "    <tr>\n",
       "      <th>9</th>\n",
       "      <td>GP</td>\n",
       "      <td>M</td>\n",
       "      <td>15</td>\n",
       "      <td>U</td>\n",
       "      <td>GT3</td>\n",
       "      <td>T</td>\n",
       "      <td>3</td>\n",
       "      <td>4</td>\n",
       "      <td>other</td>\n",
       "      <td>other</td>\n",
       "      <td>...</td>\n",
       "      <td>1</td>\n",
       "      <td>1</td>\n",
       "      <td>5</td>\n",
       "      <td>0</td>\n",
       "      <td>12</td>\n",
       "      <td>12</td>\n",
       "      <td>13</td>\n",
       "      <td>10.0</td>\n",
       "      <td>Portugese</td>\n",
       "      <td>NaN</td>\n",
       "    </tr>\n",
       "    <tr>\n",
       "      <th>12</th>\n",
       "      <td>GP</td>\n",
       "      <td>M</td>\n",
       "      <td>15</td>\n",
       "      <td>U</td>\n",
       "      <td>LE3</td>\n",
       "      <td>T</td>\n",
       "      <td>4</td>\n",
       "      <td>4</td>\n",
       "      <td>health</td>\n",
       "      <td>services</td>\n",
       "      <td>...</td>\n",
       "      <td>1</td>\n",
       "      <td>3</td>\n",
       "      <td>5</td>\n",
       "      <td>0</td>\n",
       "      <td>12</td>\n",
       "      <td>13</td>\n",
       "      <td>12</td>\n",
       "      <td>13.0</td>\n",
       "      <td>Portugese</td>\n",
       "      <td>NaN</td>\n",
       "    </tr>\n",
       "    <tr>\n",
       "      <th>13</th>\n",
       "      <td>GP</td>\n",
       "      <td>M</td>\n",
       "      <td>15</td>\n",
       "      <td>U</td>\n",
       "      <td>GT3</td>\n",
       "      <td>T</td>\n",
       "      <td>4</td>\n",
       "      <td>3</td>\n",
       "      <td>teacher</td>\n",
       "      <td>other</td>\n",
       "      <td>...</td>\n",
       "      <td>1</td>\n",
       "      <td>2</td>\n",
       "      <td>3</td>\n",
       "      <td>0</td>\n",
       "      <td>12</td>\n",
       "      <td>12</td>\n",
       "      <td>13</td>\n",
       "      <td>14.0</td>\n",
       "      <td>Portugese</td>\n",
       "      <td>NaN</td>\n",
       "    </tr>\n",
       "  </tbody>\n",
       "</table>\n",
       "<p>5 rows × 36 columns</p>\n",
       "</div>"
      ],
      "text/plain": [
       "   school sex  age address famsize Pstatus  Medu  Fedu     Mjob      Fjob  \\\n",
       "1      GP   F   17       U     GT3       T     1     1  at_home     other   \n",
       "7      GP   F   17       U     GT3       A     4     4    other   teacher   \n",
       "9      GP   M   15       U     GT3       T     3     4    other     other   \n",
       "12     GP   M   15       U     LE3       T     4     4   health  services   \n",
       "13     GP   M   15       U     GT3       T     4     3  teacher     other   \n",
       "\n",
       "    ... Dalc Walc  health  absences  G1  G2  G3  ID_p    Subject ID_m  \n",
       "1   ...    1    1       3         2   9  11  11   2.0  Portugese  NaN  \n",
       "7   ...    1    1       1         2  10  13  13   8.0  Portugese  NaN  \n",
       "9   ...    1    1       5         0  12  12  13  10.0  Portugese  NaN  \n",
       "12  ...    1    3       5         0  12  13  12  13.0  Portugese  NaN  \n",
       "13  ...    1    2       3         0  12  12  13  14.0  Portugese  NaN  \n",
       "\n",
       "[5 rows x 36 columns]"
      ]
     },
     "execution_count": 125,
     "metadata": {},
     "output_type": "execute_result"
    }
   ],
   "source": [
    "complete_df = pd.concat([por_only_df, mat_only_df])\n",
    "\n",
    "complete_df.head()"
   ]
  },
  {
   "cell_type": "markdown",
   "id": "362e633e",
   "metadata": {},
   "source": [
    "# Results\n",
    "\n",
    "## Exploratory Data Analysis\n",
    "\n",
    "In this section, we will look through any important relationships in the data using visualizations and regressions. We will also look for any significant patterns in the data, outliers and other factors that would be important for our analysis."
   ]
  },
  {
   "cell_type": "markdown",
   "id": "86f6c001",
   "metadata": {},
   "source": [
    "## Visualizations\n",
    "\n",
    "Our first step is to create some visualizations to get a sense for the distribution of some of the variables, check for outliers, and see relationships between variables."
   ]
  },
  {
   "cell_type": "code",
   "execution_count": 126,
   "id": "5db4bb61",
   "metadata": {},
   "outputs": [],
   "source": [
    "## YOUR CODE HERE\n",
    "## FEEL FREE TO ADD MULTIPLE CELLS PER SECTION"
   ]
  },
  {
   "cell_type": "markdown",
   "id": "b9e472d3",
   "metadata": {},
   "source": [
    "## Checking for Outliers in Final Grades"
   ]
  },
  {
   "cell_type": "code",
   "execution_count": 127,
   "id": "92d0ae98",
   "metadata": {},
   "outputs": [
    {
     "data": {
      "text/plain": [
       "Text(0, 0.5, 'number of each grade')"
      ]
     },
     "execution_count": 127,
     "metadata": {},
     "output_type": "execute_result"
    },
    {
     "data": {
      "image/png": "[encoded data removed]",
      "text/plain": [
       "<Figure size 432x288 with 1 Axes>"
      ]
     },
     "metadata": {
      "needs_background": "light"
     },
     "output_type": "display_data"
    }
   ],
   "source": [
    "#plotting the distribution before taking out the outliers\n",
    "sns.countplot(data = complete_df, x = 'G3')\n",
    "plt.title(\"Distribution of Final Grades\")\n",
    "plt.xlabel(\"Scores\")\n",
    "plt.ylabel(\"number of each grade\")"
   ]
  },
  {
   "cell_type": "markdown",
   "id": "63d705ab",
   "metadata": {},
   "source": [
    "*The graph above shows almost a normal distribution with a peak that should be examined. We are testing out if there are outliers and if removing them will be able to give us a better representation of our sample. From the graph it seems that there are students who got 0 for their final grade, and it seems to have an affect with relationships to the variable we are testing.*"
   ]
  },
  {
   "cell_type": "code",
   "execution_count": 128,
   "id": "03a8d4cc",
   "metadata": {},
   "outputs": [
    {
     "name": "stdout",
     "output_type": "stream",
     "text": [
      "[0, 0, 0, 0, 0, 0, 0, 0, 0, 0, 0, 0, 0, 0, 0, 0, 0, 0, 0, 0, 0, 0, 0, 0, 0, 0, 0, 0, 0, 0, 0, 0, 0, 0]\n"
     ]
    }
   ],
   "source": [
    "def find_outliers(data):\n",
    "    \n",
    "    q1 = np.percentile(data, 25)\n",
    "    q3 = np.percentile(data, 75)\n",
    "    \n",
    "    iqr = q3 - q1\n",
    "    \n",
    "    lower_bound = q1 - 1.5 * iqr\n",
    "    upper_bound = q3 + 1.5 * iqr\n",
    "    \n",
    "    outliers = [x for x in data if x < lower_bound or x > upper_bound]\n",
    "    \n",
    "    return outliers\n",
    "\n",
    "outliers = find_outliers(complete_df['G3'])\n",
    "print(outliers)"
   ]
  },
  {
   "cell_type": "code",
   "execution_count": 129,
   "id": "6b61e846",
   "metadata": {},
   "outputs": [],
   "source": [
    "#removing the outliers for G3\n",
    "\n",
    "q1 = complete_df['G3'].quantile(0.25)\n",
    "q3 = complete_df['G3'].quantile(0.75)\n",
    "\n",
    "# Calculate the interquartile range\n",
    "iqr = q3 - q1\n",
    "\n",
    "# Find lower and upper bounds\n",
    "lower_bound = q1 - 1.5 * iqr\n",
    "upper_bound = q3 + 1.5 * iqr\n",
    "\n",
    "# Remove rows with outliers\n",
    "complete_df = complete_df[(complete_df['G3'] >= lower_bound) & (complete_df['G3'] <= upper_bound)]"
   ]
  },
  {
   "cell_type": "code",
   "execution_count": 130,
   "id": "8f7d32d9",
   "metadata": {},
   "outputs": [
    {
     "data": {
      "image/png": "[encoded data removed]",
      "text/plain": [
       "<Figure size 432x288 with 1 Axes>"
      ]
     },
     "metadata": {
      "needs_background": "light"
     },
     "output_type": "display_data"
    }
   ],
   "source": [
    "#replotting after removing the outliers\n",
    "sns.countplot(data = complete_df, x = 'G3')\n",
    "plt.title(\"Distribution of Final Grades\")\n",
    "plt.xlabel(\"Scores\")\n",
    "plt.ylabel(\"number of each grade\")\n",
    "plt.grid(True, linestyle='--', linewidth=0.5, alpha=0.7)"
   ]
  },
  {
   "cell_type": "markdown",
   "id": "849cf483",
   "metadata": {},
   "source": [
    "*After removing the outliers, the distribution of grades seems to be normal and we can carry on with the rest of our data testing. With a normal distribution, it is easier to have a better accuracy of statistical inference and helps us carry out predictive modeling.*\n"
   ]
  },
  {
   "cell_type": "markdown",
   "id": "31bb47ca",
   "metadata": {},
   "source": [
    "## Regression\n",
    "\n",
    "The next step of our exploratory data analysis is to go a step further in finding the relationship between variables using regression analysis. Here, we can test for statistically significant relationships for different variables and our outcome of interest. We can also control for confounders, to find the true effects and underlying relationships."
   ]
  },
  {
   "cell_type": "code",
   "execution_count": 131,
   "id": "d4979290",
   "metadata": {},
   "outputs": [
    {
     "data": {
      "text/html": [
       "<table class=\"simpletable\">\n",
       "<caption>OLS Regression Results</caption>\n",
       "<tr>\n",
       "  <th>Dep. Variable:</th>           <td>G3</td>        <th>  R-squared:         </th> <td>   0.018</td>\n",
       "</tr>\n",
       "<tr>\n",
       "  <th>Model:</th>                   <td>OLS</td>       <th>  Adj. R-squared:    </th> <td>   0.016</td>\n",
       "</tr>\n",
       "<tr>\n",
       "  <th>Method:</th>             <td>Least Squares</td>  <th>  F-statistic:       </th> <td>   11.75</td>\n",
       "</tr>\n",
       "<tr>\n",
       "  <th>Date:</th>             <td>Wed, 20 Mar 2024</td> <th>  Prob (F-statistic):</th> <td>0.000648</td>\n",
       "</tr>\n",
       "<tr>\n",
       "  <th>Time:</th>                 <td>17:15:33</td>     <th>  Log-Likelihood:    </th> <td> -1575.0</td>\n",
       "</tr>\n",
       "<tr>\n",
       "  <th>No. Observations:</th>      <td>   642</td>      <th>  AIC:               </th> <td>   3154.</td>\n",
       "</tr>\n",
       "<tr>\n",
       "  <th>Df Residuals:</th>          <td>   640</td>      <th>  BIC:               </th> <td>   3163.</td>\n",
       "</tr>\n",
       "<tr>\n",
       "  <th>Df Model:</th>              <td>     1</td>      <th>                     </th>     <td> </td>   \n",
       "</tr>\n",
       "<tr>\n",
       "  <th>Covariance Type:</th>      <td>nonrobust</td>    <th>                     </th>     <td> </td>   \n",
       "</tr>\n",
       "</table>\n",
       "<table class=\"simpletable\">\n",
       "<tr>\n",
       "         <td></td>            <th>coef</th>     <th>std err</th>      <th>t</th>      <th>P>|t|</th>  <th>[0.025</th>    <th>0.975]</th>  \n",
       "</tr>\n",
       "<tr>\n",
       "  <th>Intercept</th>       <td>   11.1275</td> <td>    0.231</td> <td>   48.206</td> <td> 0.000</td> <td>   10.674</td> <td>   11.581</td>\n",
       "</tr>\n",
       "<tr>\n",
       "  <th>internet[T.yes]</th> <td>    0.9029</td> <td>    0.263</td> <td>    3.428</td> <td> 0.001</td> <td>    0.386</td> <td>    1.420</td>\n",
       "</tr>\n",
       "</table>\n",
       "<table class=\"simpletable\">\n",
       "<tr>\n",
       "  <th>Omnibus:</th>       <td> 9.838</td> <th>  Durbin-Watson:     </th> <td>   1.782</td>\n",
       "</tr>\n",
       "<tr>\n",
       "  <th>Prob(Omnibus):</th> <td> 0.007</td> <th>  Jarque-Bera (JB):  </th> <td>   9.264</td>\n",
       "</tr>\n",
       "<tr>\n",
       "  <th>Skew:</th>          <td> 0.250</td> <th>  Prob(JB):          </th> <td> 0.00974</td>\n",
       "</tr>\n",
       "<tr>\n",
       "  <th>Kurtosis:</th>      <td> 2.689</td> <th>  Cond. No.          </th> <td>    3.93</td>\n",
       "</tr>\n",
       "</table><br/><br/>Notes:<br/>[1] Standard Errors assume that the covariance matrix of the errors is correctly specified."
      ],
      "text/plain": [
       "<class 'statsmodels.iolib.summary.Summary'>\n",
       "\"\"\"\n",
       "                            OLS Regression Results                            \n",
       "==============================================================================\n",
       "Dep. Variable:                     G3   R-squared:                       0.018\n",
       "Model:                            OLS   Adj. R-squared:                  0.016\n",
       "Method:                 Least Squares   F-statistic:                     11.75\n",
       "Date:                Wed, 20 Mar 2024   Prob (F-statistic):           0.000648\n",
       "Time:                        17:15:33   Log-Likelihood:                -1575.0\n",
       "No. Observations:                 642   AIC:                             3154.\n",
       "Df Residuals:                     640   BIC:                             3163.\n",
       "Df Model:                           1                                         \n",
       "Covariance Type:            nonrobust                                         \n",
       "===================================================================================\n",
       "                      coef    std err          t      P>|t|      [0.025      0.975]\n",
       "-----------------------------------------------------------------------------------\n",
       "Intercept          11.1275      0.231     48.206      0.000      10.674      11.581\n",
       "internet[T.yes]     0.9029      0.263      3.428      0.001       0.386       1.420\n",
       "==============================================================================\n",
       "Omnibus:                        9.838   Durbin-Watson:                   1.782\n",
       "Prob(Omnibus):                  0.007   Jarque-Bera (JB):                9.264\n",
       "Skew:                           0.250   Prob(JB):                      0.00974\n",
       "Kurtosis:                       2.689   Cond. No.                         3.93\n",
       "==============================================================================\n",
       "\n",
       "Notes:\n",
       "[1] Standard Errors assume that the covariance matrix of the errors is correctly specified.\n",
       "\"\"\""
      ]
     },
     "execution_count": 131,
     "metadata": {},
     "output_type": "execute_result"
    }
   ],
   "source": [
    "# create OLS model to find a relationship on access to internet compared with final grade scores in either math or Portugese\n",
    "outcome_internet, predictors_internet = patsy.dmatrices('G3 ~ internet', data = complete_df)\n",
    "model_internet = sm.OLS(outcome_internet, predictors_internet)\n",
    "res_internet = model_internet.fit()\n",
    "res_internet.summary()"
   ]
  },
  {
   "cell_type": "markdown",
   "id": "7381c2d9",
   "metadata": {},
   "source": [
    "By looking at the OLS results comparing the relationship between internet access and final grades, since the P-value is 0.001, which is less than our threshold P-value of 0.05, we can conclude that there is statistically significant evidence that internet access can predict final grades. The low R-squared value also proves that there are other factors at play that impacts the relationship between internet access and final grades."
   ]
  },
  {
   "cell_type": "code",
   "execution_count": 132,
   "id": "3201b6f9",
   "metadata": {},
   "outputs": [
    {
     "data": {
      "text/html": [
       "<table class=\"simpletable\">\n",
       "<caption>OLS Regression Results</caption>\n",
       "<tr>\n",
       "  <th>Dep. Variable:</th>           <td>G3</td>        <th>  R-squared:         </th> <td>   0.054</td>\n",
       "</tr>\n",
       "<tr>\n",
       "  <th>Model:</th>                   <td>OLS</td>       <th>  Adj. R-squared:    </th> <td>   0.053</td>\n",
       "</tr>\n",
       "<tr>\n",
       "  <th>Method:</th>             <td>Least Squares</td>  <th>  F-statistic:       </th> <td>   36.71</td>\n",
       "</tr>\n",
       "<tr>\n",
       "  <th>Date:</th>             <td>Wed, 20 Mar 2024</td> <th>  Prob (F-statistic):</th> <td>2.34e-09</td>\n",
       "</tr>\n",
       "<tr>\n",
       "  <th>Time:</th>                 <td>17:15:33</td>     <th>  Log-Likelihood:    </th> <td> -1562.9</td>\n",
       "</tr>\n",
       "<tr>\n",
       "  <th>No. Observations:</th>      <td>   642</td>      <th>  AIC:               </th> <td>   3130.</td>\n",
       "</tr>\n",
       "<tr>\n",
       "  <th>Df Residuals:</th>          <td>   640</td>      <th>  BIC:               </th> <td>   3139.</td>\n",
       "</tr>\n",
       "<tr>\n",
       "  <th>Df Model:</th>              <td>     1</td>      <th>                     </th>     <td> </td>   \n",
       "</tr>\n",
       "<tr>\n",
       "  <th>Covariance Type:</th>      <td>nonrobust</td>    <th>                     </th>     <td> </td>   \n",
       "</tr>\n",
       "</table>\n",
       "<table class=\"simpletable\">\n",
       "<tr>\n",
       "      <td></td>         <th>coef</th>     <th>std err</th>      <th>t</th>      <th>P>|t|</th>  <th>[0.025</th>    <th>0.975]</th>  \n",
       "</tr>\n",
       "<tr>\n",
       "  <th>Intercept</th> <td>   12.3268</td> <td>    0.137</td> <td>   89.703</td> <td> 0.000</td> <td>   12.057</td> <td>   12.597</td>\n",
       "</tr>\n",
       "<tr>\n",
       "  <th>absences</th>  <td>   -0.1088</td> <td>    0.018</td> <td>   -6.059</td> <td> 0.000</td> <td>   -0.144</td> <td>   -0.074</td>\n",
       "</tr>\n",
       "</table>\n",
       "<table class=\"simpletable\">\n",
       "<tr>\n",
       "  <th>Omnibus:</th>       <td>15.681</td> <th>  Durbin-Watson:     </th> <td>   1.725</td>\n",
       "</tr>\n",
       "<tr>\n",
       "  <th>Prob(Omnibus):</th> <td> 0.000</td> <th>  Jarque-Bera (JB):  </th> <td>  14.808</td>\n",
       "</tr>\n",
       "<tr>\n",
       "  <th>Skew:</th>          <td> 0.326</td> <th>  Prob(JB):          </th> <td>0.000609</td>\n",
       "</tr>\n",
       "<tr>\n",
       "  <th>Kurtosis:</th>      <td> 2.643</td> <th>  Cond. No.          </th> <td>    9.69</td>\n",
       "</tr>\n",
       "</table><br/><br/>Notes:<br/>[1] Standard Errors assume that the covariance matrix of the errors is correctly specified."
      ],
      "text/plain": [
       "<class 'statsmodels.iolib.summary.Summary'>\n",
       "\"\"\"\n",
       "                            OLS Regression Results                            \n",
       "==============================================================================\n",
       "Dep. Variable:                     G3   R-squared:                       0.054\n",
       "Model:                            OLS   Adj. R-squared:                  0.053\n",
       "Method:                 Least Squares   F-statistic:                     36.71\n",
       "Date:                Wed, 20 Mar 2024   Prob (F-statistic):           2.34e-09\n",
       "Time:                        17:15:33   Log-Likelihood:                -1562.9\n",
       "No. Observations:                 642   AIC:                             3130.\n",
       "Df Residuals:                     640   BIC:                             3139.\n",
       "Df Model:                           1                                         \n",
       "Covariance Type:            nonrobust                                         \n",
       "==============================================================================\n",
       "                 coef    std err          t      P>|t|      [0.025      0.975]\n",
       "------------------------------------------------------------------------------\n",
       "Intercept     12.3268      0.137     89.703      0.000      12.057      12.597\n",
       "absences      -0.1088      0.018     -6.059      0.000      -0.144      -0.074\n",
       "==============================================================================\n",
       "Omnibus:                       15.681   Durbin-Watson:                   1.725\n",
       "Prob(Omnibus):                  0.000   Jarque-Bera (JB):               14.808\n",
       "Skew:                           0.326   Prob(JB):                     0.000609\n",
       "Kurtosis:                       2.643   Cond. No.                         9.69\n",
       "==============================================================================\n",
       "\n",
       "Notes:\n",
       "[1] Standard Errors assume that the covariance matrix of the errors is correctly specified.\n",
       "\"\"\""
      ]
     },
     "execution_count": 132,
     "metadata": {},
     "output_type": "execute_result"
    }
   ],
   "source": [
    "# OLS model to find a relationship on absences compared with final grade scores in either math or Portugese\n",
    "outcome_absences, predictors_absences = patsy.dmatrices('G3 ~ absences', data = complete_df)\n",
    "model_absences = sm.OLS(outcome_absences, predictors_absences)\n",
    "res_absences = model_absences.fit()\n",
    "res_absences.summary()"
   ]
  },
  {
   "cell_type": "markdown",
   "id": "61aab380",
   "metadata": {},
   "source": [
    "By looking at the OLS results comparing the relationship between absences and final grades, since the P-value is 0, which is less than our threshold P-value of 0.05, we can conclude that there is statistically significant evidence that absences can predict final grades. However, the low R-squared value proves that there are other variables at play that affect the relationship between absences and final grades."
   ]
  },
  {
   "cell_type": "markdown",
   "id": "dd2b2461",
   "metadata": {},
   "source": [
    "# desciptive data to explore\n",
    "- Address\n",
    "- all_sup (schools_up, fams_up)\n",
    "- all_high_ed (nursery and higher)\n",
    "- Internet"
   ]
  },
  {
   "cell_type": "code",
   "execution_count": 133,
   "id": "591f6a7f",
   "metadata": {},
   "outputs": [
    {
     "data": {
      "image/png": "[encoded data removed]",
      "text/plain": [
       "<Figure size 432x288 with 1 Axes>"
      ]
     },
     "metadata": {
      "needs_background": "light"
     },
     "output_type": "display_data"
    }
   ],
   "source": [
    "# plot of people who have access to internet vs people who don't have access to internet\n",
    "plot_internet = sns.countplot(x='internet', data=complete_df)"
   ]
  },
  {
   "cell_type": "markdown",
   "id": "3a928e12",
   "metadata": {},
   "source": [
    "From the plot above, more students in this study have internet access than students who don't have internet access"
   ]
  },
  {
   "cell_type": "code",
   "execution_count": 134,
   "id": "66ee1072",
   "metadata": {},
   "outputs": [
    {
     "data": {
      "text/html": [
       "<div>\n",
       "<style scoped>\n",
       "    .dataframe tbody tr th:only-of-type {\n",
       "        vertical-align: middle;\n",
       "    }\n",
       "\n",
       "    .dataframe tbody tr th {\n",
       "        vertical-align: top;\n",
       "    }\n",
       "\n",
       "    .dataframe thead th {\n",
       "        text-align: right;\n",
       "    }\n",
       "</style>\n",
       "<table border=\"1\" class=\"dataframe\">\n",
       "  <thead>\n",
       "    <tr style=\"text-align: right;\">\n",
       "      <th></th>\n",
       "      <th>G3</th>\n",
       "    </tr>\n",
       "  </thead>\n",
       "  <tbody>\n",
       "    <tr>\n",
       "      <th>count</th>\n",
       "      <td>493.000000</td>\n",
       "    </tr>\n",
       "    <tr>\n",
       "      <th>mean</th>\n",
       "      <td>12.030426</td>\n",
       "    </tr>\n",
       "    <tr>\n",
       "      <th>std</th>\n",
       "      <td>2.917756</td>\n",
       "    </tr>\n",
       "    <tr>\n",
       "      <th>min</th>\n",
       "      <td>5.000000</td>\n",
       "    </tr>\n",
       "    <tr>\n",
       "      <th>25%</th>\n",
       "      <td>10.000000</td>\n",
       "    </tr>\n",
       "    <tr>\n",
       "      <th>50%</th>\n",
       "      <td>12.000000</td>\n",
       "    </tr>\n",
       "    <tr>\n",
       "      <th>75%</th>\n",
       "      <td>14.000000</td>\n",
       "    </tr>\n",
       "    <tr>\n",
       "      <th>max</th>\n",
       "      <td>20.000000</td>\n",
       "    </tr>\n",
       "  </tbody>\n",
       "</table>\n",
       "</div>"
      ],
      "text/plain": [
       "               G3\n",
       "count  493.000000\n",
       "mean    12.030426\n",
       "std      2.917756\n",
       "min      5.000000\n",
       "25%     10.000000\n",
       "50%     12.000000\n",
       "75%     14.000000\n",
       "max     20.000000"
      ]
     },
     "execution_count": 134,
     "metadata": {},
     "output_type": "execute_result"
    }
   ],
   "source": [
    "# get descriptive statistics of final grades of students who had internet access\n",
    "internet = complete_df[complete_df['internet'] == 'yes']\n",
    "internet[[\"G3\"]].describe()"
   ]
  },
  {
   "cell_type": "code",
   "execution_count": 135,
   "id": "2eae3e03",
   "metadata": {},
   "outputs": [
    {
     "data": {
      "text/html": [
       "<div>\n",
       "<style scoped>\n",
       "    .dataframe tbody tr th:only-of-type {\n",
       "        vertical-align: middle;\n",
       "    }\n",
       "\n",
       "    .dataframe tbody tr th {\n",
       "        vertical-align: top;\n",
       "    }\n",
       "\n",
       "    .dataframe thead th {\n",
       "        text-align: right;\n",
       "    }\n",
       "</style>\n",
       "<table border=\"1\" class=\"dataframe\">\n",
       "  <thead>\n",
       "    <tr style=\"text-align: right;\">\n",
       "      <th></th>\n",
       "      <th>G3</th>\n",
       "    </tr>\n",
       "  </thead>\n",
       "  <tbody>\n",
       "    <tr>\n",
       "      <th>count</th>\n",
       "      <td>149.000000</td>\n",
       "    </tr>\n",
       "    <tr>\n",
       "      <th>mean</th>\n",
       "      <td>11.127517</td>\n",
       "    </tr>\n",
       "    <tr>\n",
       "      <th>std</th>\n",
       "      <td>2.455795</td>\n",
       "    </tr>\n",
       "    <tr>\n",
       "      <th>min</th>\n",
       "      <td>5.000000</td>\n",
       "    </tr>\n",
       "    <tr>\n",
       "      <th>25%</th>\n",
       "      <td>10.000000</td>\n",
       "    </tr>\n",
       "    <tr>\n",
       "      <th>50%</th>\n",
       "      <td>11.000000</td>\n",
       "    </tr>\n",
       "    <tr>\n",
       "      <th>75%</th>\n",
       "      <td>12.000000</td>\n",
       "    </tr>\n",
       "    <tr>\n",
       "      <th>max</th>\n",
       "      <td>19.000000</td>\n",
       "    </tr>\n",
       "  </tbody>\n",
       "</table>\n",
       "</div>"
      ],
      "text/plain": [
       "               G3\n",
       "count  149.000000\n",
       "mean    11.127517\n",
       "std      2.455795\n",
       "min      5.000000\n",
       "25%     10.000000\n",
       "50%     11.000000\n",
       "75%     12.000000\n",
       "max     19.000000"
      ]
     },
     "execution_count": 135,
     "metadata": {},
     "output_type": "execute_result"
    }
   ],
   "source": [
    "# get descriptive statistics of final grades of students who do not have internet access\n",
    "no_internet = complete_df[complete_df['internet'] == 'no']\n",
    "no_internet[[\"G3\"]].describe()"
   ]
  },
  {
   "cell_type": "markdown",
   "id": "c22b2ae2",
   "metadata": {},
   "source": [
    "From the descriptive statistics, the average final grade for students with internet access is slightly higher/better than for students without internet access."
   ]
  },
  {
   "cell_type": "code",
   "execution_count": 136,
   "id": "e524669e",
   "metadata": {},
   "outputs": [
    {
     "data": {
      "text/html": [
       "<div>\n",
       "<style scoped>\n",
       "    .dataframe tbody tr th:only-of-type {\n",
       "        vertical-align: middle;\n",
       "    }\n",
       "\n",
       "    .dataframe tbody tr th {\n",
       "        vertical-align: top;\n",
       "    }\n",
       "\n",
       "    .dataframe thead th {\n",
       "        text-align: right;\n",
       "    }\n",
       "</style>\n",
       "<table border=\"1\" class=\"dataframe\">\n",
       "  <thead>\n",
       "    <tr style=\"text-align: right;\">\n",
       "      <th></th>\n",
       "      <th>G3</th>\n",
       "    </tr>\n",
       "  </thead>\n",
       "  <tbody>\n",
       "    <tr>\n",
       "      <th>count</th>\n",
       "      <td>117.000000</td>\n",
       "    </tr>\n",
       "    <tr>\n",
       "      <th>mean</th>\n",
       "      <td>11.213675</td>\n",
       "    </tr>\n",
       "    <tr>\n",
       "      <th>std</th>\n",
       "      <td>2.787995</td>\n",
       "    </tr>\n",
       "    <tr>\n",
       "      <th>min</th>\n",
       "      <td>5.000000</td>\n",
       "    </tr>\n",
       "    <tr>\n",
       "      <th>25%</th>\n",
       "      <td>9.000000</td>\n",
       "    </tr>\n",
       "    <tr>\n",
       "      <th>50%</th>\n",
       "      <td>11.000000</td>\n",
       "    </tr>\n",
       "    <tr>\n",
       "      <th>75%</th>\n",
       "      <td>13.000000</td>\n",
       "    </tr>\n",
       "    <tr>\n",
       "      <th>max</th>\n",
       "      <td>19.000000</td>\n",
       "    </tr>\n",
       "  </tbody>\n",
       "</table>\n",
       "</div>"
      ],
      "text/plain": [
       "               G3\n",
       "count  117.000000\n",
       "mean    11.213675\n",
       "std      2.787995\n",
       "min      5.000000\n",
       "25%      9.000000\n",
       "50%     11.000000\n",
       "75%     13.000000\n",
       "max     19.000000"
      ]
     },
     "execution_count": 136,
     "metadata": {},
     "output_type": "execute_result"
    }
   ],
   "source": [
    "# get descriptive statistics of final grades of students who paid for extra courses\n",
    "paid_courses = complete_df[complete_df['paid'] == 'yes']\n",
    "paid_courses[[\"G3\"]].describe()"
   ]
  },
  {
   "cell_type": "code",
   "execution_count": 137,
   "id": "26f23d7a",
   "metadata": {},
   "outputs": [
    {
     "data": {
      "text/html": [
       "<div>\n",
       "<style scoped>\n",
       "    .dataframe tbody tr th:only-of-type {\n",
       "        vertical-align: middle;\n",
       "    }\n",
       "\n",
       "    .dataframe tbody tr th {\n",
       "        vertical-align: top;\n",
       "    }\n",
       "\n",
       "    .dataframe thead th {\n",
       "        text-align: right;\n",
       "    }\n",
       "</style>\n",
       "<table border=\"1\" class=\"dataframe\">\n",
       "  <thead>\n",
       "    <tr style=\"text-align: right;\">\n",
       "      <th></th>\n",
       "      <th>G3</th>\n",
       "    </tr>\n",
       "  </thead>\n",
       "  <tbody>\n",
       "    <tr>\n",
       "      <th>count</th>\n",
       "      <td>525.000000</td>\n",
       "    </tr>\n",
       "    <tr>\n",
       "      <th>mean</th>\n",
       "      <td>11.956190</td>\n",
       "    </tr>\n",
       "    <tr>\n",
       "      <th>std</th>\n",
       "      <td>2.837855</td>\n",
       "    </tr>\n",
       "    <tr>\n",
       "      <th>min</th>\n",
       "      <td>5.000000</td>\n",
       "    </tr>\n",
       "    <tr>\n",
       "      <th>25%</th>\n",
       "      <td>10.000000</td>\n",
       "    </tr>\n",
       "    <tr>\n",
       "      <th>50%</th>\n",
       "      <td>11.000000</td>\n",
       "    </tr>\n",
       "    <tr>\n",
       "      <th>75%</th>\n",
       "      <td>14.000000</td>\n",
       "    </tr>\n",
       "    <tr>\n",
       "      <th>max</th>\n",
       "      <td>20.000000</td>\n",
       "    </tr>\n",
       "  </tbody>\n",
       "</table>\n",
       "</div>"
      ],
      "text/plain": [
       "               G3\n",
       "count  525.000000\n",
       "mean    11.956190\n",
       "std      2.837855\n",
       "min      5.000000\n",
       "25%     10.000000\n",
       "50%     11.000000\n",
       "75%     14.000000\n",
       "max     20.000000"
      ]
     },
     "execution_count": 137,
     "metadata": {},
     "output_type": "execute_result"
    }
   ],
   "source": [
    "# get descriptive statistics of final grades of students who did not pay for extra courses\n",
    "no_paid_courses = complete_df[complete_df['paid'] == 'no']\n",
    "no_paid_courses[[\"G3\"]].describe()"
   ]
  },
  {
   "cell_type": "code",
   "execution_count": 138,
   "id": "a8bebee2",
   "metadata": {},
   "outputs": [
    {
     "data": {
      "text/plain": [
       "<AxesSubplot:xlabel='G3', ylabel='paid'>"
      ]
     },
     "execution_count": 138,
     "metadata": {},
     "output_type": "execute_result"
    },
    {
     "data": {
      "image/png": "[encoded data removed]",
      "text/plain": [
       "<Figure size 432x288 with 1 Axes>"
      ]
     },
     "metadata": {
      "needs_background": "light"
     },
     "output_type": "display_data"
    }
   ],
   "source": [
    "# boxplot showing the difference in average G3 scores for students who paid for extra courses vs students who did not\n",
    "sns.boxplot(data=complete_df, x=\"G3\", y=\"paid\")"
   ]
  },
  {
   "cell_type": "markdown",
   "id": "a0d8d767",
   "metadata": {},
   "source": [
    "Based on the descriptive statistics, only 117 students paid for extra courses compared to 525 who did not. Yet, the average final grade (G3) was lower for students who pay for extra courses (11.21) compared to students who didn't pay for extra courses (11.95). However, this difference in average scores is very small."
   ]
  },
  {
   "cell_type": "code",
   "execution_count": 139,
   "id": "b0216a2f",
   "metadata": {},
   "outputs": [
    {
     "data": {
      "text/plain": [
       "<AxesSubplot:ylabel='Frequency'>"
      ]
     },
     "execution_count": 139,
     "metadata": {},
     "output_type": "execute_result"
    },
    {
     "data": {
      "image/png": "[encoded data removed]",
      "text/plain": [
       "<Figure size 432x288 with 1 Axes>"
      ]
     },
     "metadata": {
      "needs_background": "light"
     },
     "output_type": "display_data"
    }
   ],
   "source": [
    "# plot histogram of student absences\n",
    "# x axis is number of absences in bins incrementing by 5, and y axis is number of students who fall in the different range of absences\n",
    "complete_df['absences'].plot(kind='hist')"
   ]
  },
  {
   "cell_type": "markdown",
   "id": "78a7707b",
   "metadata": {},
   "source": [
    "Based on the histogram measuring student absences, we see that the data is right skewed, where there are significantly more students that have 0-10 absences for the year and a lot less students with a high number of absences (lot less students with at least 10 or more absences)"
   ]
  },
  {
   "cell_type": "markdown",
   "id": "8a01d602",
   "metadata": {},
   "source": [
    "# quantitative variables to explore\n",
    "- Goout\n",
    "- parent_education (medu, fedu)\n",
    "- total_alc (dalc, walc)\n",
    "- Overall weekly all"
   ]
  },
  {
   "cell_type": "code",
   "execution_count": 140,
   "id": "6c90f2ad",
   "metadata": {},
   "outputs": [
    {
     "data": {
      "text/plain": [
       "Text(0, 0.5, 'Student Final Grades (G3)')"
      ]
     },
     "execution_count": 140,
     "metadata": {},
     "output_type": "execute_result"
    },
    {
     "data": {
      "image/png": "[encoded data removed]",
      "text/plain": [
       "<Figure size 432x288 with 1 Axes>"
      ]
     },
     "metadata": {
      "needs_background": "light"
     },
     "output_type": "display_data"
    }
   ],
   "source": [
    "#plotting the data to see of there is a correlation before exploring  \n",
    "sns.lineplot(x='goout', y = 'G3', data = complete_df)\n",
    "plt.title('Negative Correlation Between Going Out and Final Grades')\n",
    "plt.xlabel('Likeliness of Going Out')\n",
    "plt.ylabel('Student Final Grades (G3)')"
   ]
  },
  {
   "cell_type": "code",
   "execution_count": 141,
   "id": "0f6345f4",
   "metadata": {},
   "outputs": [
    {
     "name": "stdout",
     "output_type": "stream",
     "text": [
      "                            OLS Regression Results                            \n",
      "==============================================================================\n",
      "Dep. Variable:                     G3   R-squared:                       0.009\n",
      "Model:                            OLS   Adj. R-squared:                  0.008\n",
      "Method:                 Least Squares   F-statistic:                     6.010\n",
      "Date:                Wed, 20 Mar 2024   Prob (F-statistic):             0.0145\n",
      "Time:                        17:15:36   Log-Likelihood:                -1577.9\n",
      "No. Observations:                 642   AIC:                             3160.\n",
      "Df Residuals:                     640   BIC:                             3169.\n",
      "Df Model:                           1                                         \n",
      "Covariance Type:            nonrobust                                         \n",
      "==============================================================================\n",
      "                 coef    std err          t      P>|t|      [0.025      0.975]\n",
      "------------------------------------------------------------------------------\n",
      "Intercept     12.5828      0.330     38.099      0.000      11.934      13.231\n",
      "goout         -0.2394      0.098     -2.451      0.014      -0.431      -0.048\n",
      "==============================================================================\n",
      "Omnibus:                       14.480   Durbin-Watson:                   1.717\n",
      "Prob(Omnibus):                  0.001   Jarque-Bera (JB):               13.377\n",
      "Skew:                           0.303   Prob(JB):                      0.00125\n",
      "Kurtosis:                       2.634   Cond. No.                         10.8\n",
      "==============================================================================\n",
      "\n",
      "Notes:\n",
      "[1] Standard Errors assume that the covariance matrix of the errors is correctly specified.\n"
     ]
    }
   ],
   "source": [
    "# going out OLS Regression Results\n",
    "outcome_go, predictors_go = patsy.dmatrices('G3 ~ goout', data = complete_df)\n",
    "\n",
    "mod_go = sm.OLS(outcome_go, predictors_go)\n",
    "res_go = mod_go.fit()\n",
    "print(res_go.summary())"
   ]
  },
  {
   "cell_type": "markdown",
   "id": "e50d3c4d",
   "metadata": {},
   "source": [
    "*By looking at the results for going out, since the p valuve of 0.004 is less than our alpha variable of 0.05, likeliness of going out is statistically significant in helping predicting the outcome of grades. Also looking at the r-squared value, we can see that only 0.9% of likelness of going out explain the outcome of final grades*"
   ]
  },
  {
   "cell_type": "code",
   "execution_count": 142,
   "id": "b7f380fc",
   "metadata": {},
   "outputs": [
    {
     "name": "stdout",
     "output_type": "stream",
     "text": [
      "                            OLS Regression Results                            \n",
      "==============================================================================\n",
      "Dep. Variable:                     G3   R-squared:                       0.043\n",
      "Model:                            OLS   Adj. R-squared:                  0.041\n",
      "Method:                 Least Squares   F-statistic:                     28.44\n",
      "Date:                Wed, 20 Mar 2024   Prob (F-statistic):           1.35e-07\n",
      "Time:                        17:15:36   Log-Likelihood:                -1566.9\n",
      "No. Observations:                 642   AIC:                             3138.\n",
      "Df Residuals:                     640   BIC:                             3147.\n",
      "Df Model:                           1                                         \n",
      "Covariance Type:            nonrobust                                         \n",
      "=====================================================================================\n",
      "                        coef    std err          t      P>|t|      [0.025      0.975]\n",
      "-------------------------------------------------------------------------------------\n",
      "Intercept            10.4210      0.285     36.623      0.000       9.862      10.980\n",
      "parents_education     0.2899      0.054      5.332      0.000       0.183       0.397\n",
      "==============================================================================\n",
      "Omnibus:                        4.710   Durbin-Watson:                   1.773\n",
      "Prob(Omnibus):                  0.095   Jarque-Bera (JB):                4.667\n",
      "Skew:                           0.179   Prob(JB):                       0.0970\n",
      "Kurtosis:                       2.786   Cond. No.                         14.0\n",
      "==============================================================================\n",
      "\n",
      "Notes:\n",
      "[1] Standard Errors assume that the covariance matrix of the errors is correctly specified.\n"
     ]
    }
   ],
   "source": [
    "# Parent's education OLS Regression Results\n",
    "\n",
    "# Combined education levels of parents\n",
    "complete_df['parents_education'] = complete_df['Medu'] + complete_df['Fedu']\n",
    "\n",
    "outcome_pedu, predictors_pedu = patsy.dmatrices('G3 ~ parents_education', data=complete_df)\n",
    "mod_pedu = sm.OLS(outcome_pedu, predictors_pedu)\n",
    "res_pedu = mod_pedu.fit()\n",
    "print(res_pedu.summary())"
   ]
  },
  {
   "cell_type": "markdown",
   "id": "d1127492",
   "metadata": {},
   "source": [
    "***parents_education*** *is statistically significant in predicting final grades, as indicated by its p-value(<0.05) and the coefficient interval(0.183 - 0.397). However, the relatively low R-squared value suggests that while parents' educational levels do impact student grades, they are only one of many factors affecting academic outcomes*"
   ]
  },
  {
   "cell_type": "code",
   "execution_count": 143,
   "id": "30015a5e",
   "metadata": {},
   "outputs": [
    {
     "data": {
      "image/png": "[encoded data removed]",
      "text/plain": [
       "<Figure size 720x432 with 1 Axes>"
      ]
     },
     "metadata": {
      "needs_background": "light"
     },
     "output_type": "display_data"
    }
   ],
   "source": [
    "#Linear regression between the combined education levels of parents (Medu + Fedu) and students' final grades (G3)\n",
    "\n",
    "plt.figure(figsize=(10, 6))\n",
    "sns.regplot(x='parents_education', y='G3', data=complete_df, scatter_kws={'alpha':0.5}, line_kws={'color':'red'})\n",
    "plt.title('Impact of Parents\\' Combined Education Levels on Student Final Grades')\n",
    "plt.xlabel('Combined Education Level of Parents')\n",
    "plt.ylabel('Student Final Grades (G3)')\n",
    "plt.grid(True)\n",
    "plt.show()"
   ]
  },
  {
   "cell_type": "markdown",
   "id": "e6d78dce",
   "metadata": {},
   "source": [
    "*The graph indicates a positive correlation between parents' combined education levels and student final grades. As parental education increases, so does student performance, albeit slightly. This suggests parental education positively influences student outcomes, though the variability in grades across all levels of parental education also hints at the impact of other factors on student academic success.*"
   ]
  },
  {
   "cell_type": "code",
   "execution_count": 144,
   "id": "1a45d11e",
   "metadata": {},
   "outputs": [
    {
     "data": {
      "text/html": [
       "<div>\n",
       "<style scoped>\n",
       "    .dataframe tbody tr th:only-of-type {\n",
       "        vertical-align: middle;\n",
       "    }\n",
       "\n",
       "    .dataframe tbody tr th {\n",
       "        vertical-align: top;\n",
       "    }\n",
       "\n",
       "    .dataframe thead th {\n",
       "        text-align: right;\n",
       "    }\n",
       "</style>\n",
       "<table border=\"1\" class=\"dataframe\">\n",
       "  <thead>\n",
       "    <tr style=\"text-align: right;\">\n",
       "      <th></th>\n",
       "      <th>Dalc</th>\n",
       "      <th>Walc</th>\n",
       "      <th>Oalc</th>\n",
       "    </tr>\n",
       "  </thead>\n",
       "  <tbody>\n",
       "    <tr>\n",
       "      <th>1</th>\n",
       "      <td>1</td>\n",
       "      <td>1</td>\n",
       "      <td>1.0</td>\n",
       "    </tr>\n",
       "    <tr>\n",
       "      <th>7</th>\n",
       "      <td>1</td>\n",
       "      <td>1</td>\n",
       "      <td>1.0</td>\n",
       "    </tr>\n",
       "    <tr>\n",
       "      <th>9</th>\n",
       "      <td>1</td>\n",
       "      <td>1</td>\n",
       "      <td>1.0</td>\n",
       "    </tr>\n",
       "    <tr>\n",
       "      <th>12</th>\n",
       "      <td>1</td>\n",
       "      <td>3</td>\n",
       "      <td>2.0</td>\n",
       "    </tr>\n",
       "    <tr>\n",
       "      <th>13</th>\n",
       "      <td>1</td>\n",
       "      <td>2</td>\n",
       "      <td>1.5</td>\n",
       "    </tr>\n",
       "    <tr>\n",
       "      <th>...</th>\n",
       "      <td>...</td>\n",
       "      <td>...</td>\n",
       "      <td>...</td>\n",
       "    </tr>\n",
       "    <tr>\n",
       "      <th>386</th>\n",
       "      <td>2</td>\n",
       "      <td>2</td>\n",
       "      <td>2.0</td>\n",
       "    </tr>\n",
       "    <tr>\n",
       "      <th>388</th>\n",
       "      <td>1</td>\n",
       "      <td>1</td>\n",
       "      <td>1.0</td>\n",
       "    </tr>\n",
       "    <tr>\n",
       "      <th>390</th>\n",
       "      <td>4</td>\n",
       "      <td>5</td>\n",
       "      <td>4.5</td>\n",
       "    </tr>\n",
       "    <tr>\n",
       "      <th>392</th>\n",
       "      <td>3</td>\n",
       "      <td>3</td>\n",
       "      <td>3.0</td>\n",
       "    </tr>\n",
       "    <tr>\n",
       "      <th>394</th>\n",
       "      <td>3</td>\n",
       "      <td>3</td>\n",
       "      <td>3.0</td>\n",
       "    </tr>\n",
       "  </tbody>\n",
       "</table>\n",
       "<p>642 rows × 3 columns</p>\n",
       "</div>"
      ],
      "text/plain": [
       "     Dalc  Walc  Oalc\n",
       "1       1     1   1.0\n",
       "7       1     1   1.0\n",
       "9       1     1   1.0\n",
       "12      1     3   2.0\n",
       "13      1     2   1.5\n",
       "..    ...   ...   ...\n",
       "386     2     2   2.0\n",
       "388     1     1   1.0\n",
       "390     4     5   4.5\n",
       "392     3     3   3.0\n",
       "394     3     3   3.0\n",
       "\n",
       "[642 rows x 3 columns]"
      ]
     },
     "execution_count": 144,
     "metadata": {},
     "output_type": "execute_result"
    }
   ],
   "source": [
    "# combine workday and weekend alcohol consumption into an average overall weekly alcohol consumption (still on a scale of 1-5)\n",
    "complete_df['Oalc'] = (complete_df['Dalc'] + complete_df['Walc']) / 2\n",
    "complete_df[['Dalc', 'Walc', 'Oalc']]"
   ]
  },
  {
   "cell_type": "code",
   "execution_count": 145,
   "id": "2509802f",
   "metadata": {},
   "outputs": [
    {
     "data": {
      "text/html": [
       "<table class=\"simpletable\">\n",
       "<caption>OLS Regression Results</caption>\n",
       "<tr>\n",
       "  <th>Dep. Variable:</th>           <td>G3</td>        <th>  R-squared:         </th> <td>   0.034</td>\n",
       "</tr>\n",
       "<tr>\n",
       "  <th>Model:</th>                   <td>OLS</td>       <th>  Adj. R-squared:    </th> <td>   0.032</td>\n",
       "</tr>\n",
       "<tr>\n",
       "  <th>Method:</th>             <td>Least Squares</td>  <th>  F-statistic:       </th> <td>   22.26</td>\n",
       "</tr>\n",
       "<tr>\n",
       "  <th>Date:</th>             <td>Wed, 20 Mar 2024</td> <th>  Prob (F-statistic):</th> <td>2.93e-06</td>\n",
       "</tr>\n",
       "<tr>\n",
       "  <th>Time:</th>                 <td>17:15:37</td>     <th>  Log-Likelihood:    </th> <td> -1569.9</td>\n",
       "</tr>\n",
       "<tr>\n",
       "  <th>No. Observations:</th>      <td>   642</td>      <th>  AIC:               </th> <td>   3144.</td>\n",
       "</tr>\n",
       "<tr>\n",
       "  <th>Df Residuals:</th>          <td>   640</td>      <th>  BIC:               </th> <td>   3153.</td>\n",
       "</tr>\n",
       "<tr>\n",
       "  <th>Df Model:</th>              <td>     1</td>      <th>                     </th>     <td> </td>   \n",
       "</tr>\n",
       "<tr>\n",
       "  <th>Covariance Type:</th>      <td>nonrobust</td>    <th>                     </th>     <td> </td>   \n",
       "</tr>\n",
       "</table>\n",
       "<table class=\"simpletable\">\n",
       "<tr>\n",
       "      <td></td>         <th>coef</th>     <th>std err</th>      <th>t</th>      <th>P>|t|</th>  <th>[0.025</th>    <th>0.975]</th>  \n",
       "</tr>\n",
       "<tr>\n",
       "  <th>Intercept</th> <td>   12.8094</td> <td>    0.237</td> <td>   54.094</td> <td> 0.000</td> <td>   12.344</td> <td>   13.274</td>\n",
       "</tr>\n",
       "<tr>\n",
       "  <th>Oalc</th>      <td>   -0.5215</td> <td>    0.111</td> <td>   -4.718</td> <td> 0.000</td> <td>   -0.739</td> <td>   -0.304</td>\n",
       "</tr>\n",
       "</table>\n",
       "<table class=\"simpletable\">\n",
       "<tr>\n",
       "  <th>Omnibus:</th>       <td>12.439</td> <th>  Durbin-Watson:     </th> <td>   1.741</td>\n",
       "</tr>\n",
       "<tr>\n",
       "  <th>Prob(Omnibus):</th> <td> 0.002</td> <th>  Jarque-Bera (JB):  </th> <td>  11.143</td>\n",
       "</tr>\n",
       "<tr>\n",
       "  <th>Skew:</th>          <td> 0.264</td> <th>  Prob(JB):          </th> <td> 0.00380</td>\n",
       "</tr>\n",
       "<tr>\n",
       "  <th>Kurtosis:</th>      <td> 2.630</td> <th>  Cond. No.          </th> <td>    5.42</td>\n",
       "</tr>\n",
       "</table><br/><br/>Notes:<br/>[1] Standard Errors assume that the covariance matrix of the errors is correctly specified."
      ],
      "text/plain": [
       "<class 'statsmodels.iolib.summary.Summary'>\n",
       "\"\"\"\n",
       "                            OLS Regression Results                            \n",
       "==============================================================================\n",
       "Dep. Variable:                     G3   R-squared:                       0.034\n",
       "Model:                            OLS   Adj. R-squared:                  0.032\n",
       "Method:                 Least Squares   F-statistic:                     22.26\n",
       "Date:                Wed, 20 Mar 2024   Prob (F-statistic):           2.93e-06\n",
       "Time:                        17:15:37   Log-Likelihood:                -1569.9\n",
       "No. Observations:                 642   AIC:                             3144.\n",
       "Df Residuals:                     640   BIC:                             3153.\n",
       "Df Model:                           1                                         \n",
       "Covariance Type:            nonrobust                                         \n",
       "==============================================================================\n",
       "                 coef    std err          t      P>|t|      [0.025      0.975]\n",
       "------------------------------------------------------------------------------\n",
       "Intercept     12.8094      0.237     54.094      0.000      12.344      13.274\n",
       "Oalc          -0.5215      0.111     -4.718      0.000      -0.739      -0.304\n",
       "==============================================================================\n",
       "Omnibus:                       12.439   Durbin-Watson:                   1.741\n",
       "Prob(Omnibus):                  0.002   Jarque-Bera (JB):               11.143\n",
       "Skew:                           0.264   Prob(JB):                      0.00380\n",
       "Kurtosis:                       2.630   Cond. No.                         5.42\n",
       "==============================================================================\n",
       "\n",
       "Notes:\n",
       "[1] Standard Errors assume that the covariance matrix of the errors is correctly specified.\n",
       "\"\"\""
      ]
     },
     "execution_count": 145,
     "metadata": {},
     "output_type": "execute_result"
    }
   ],
   "source": [
    "# OLS for finding if there is a relationship between overall weekly alcohol consumption and final class scores\n",
    "outcome_Oalc, predictors_Oalc = patsy.dmatrices('G3 ~ Oalc', data = complete_df)\n",
    "model_Oalc = sm.OLS(outcome_Oalc, predictors_Oalc)\n",
    "res_Oalc = model_Oalc.fit()\n",
    "res_Oalc.summary()"
   ]
  },
  {
   "cell_type": "markdown",
   "id": "18fac1c1",
   "metadata": {},
   "source": [
    "By looking at the OLS results comparing the relationship between overall alcohol consumption and final grades, since the P-value is 0, which is less than our threshold P-value of 0.05, we can conclude that there is statistically significant evidence that overall alcohol consumption can predict final grades. However, the low R-squared value proves that there are other variables at play that affect the relationship between overall alcohol consumption and final grades."
   ]
  },
  {
   "cell_type": "code",
   "execution_count": 146,
   "id": "121d192b",
   "metadata": {},
   "outputs": [
    {
     "data": {
      "text/plain": [
       "<AxesSubplot:xlabel='Oalc', ylabel='G3'>"
      ]
     },
     "execution_count": 146,
     "metadata": {},
     "output_type": "execute_result"
    },
    {
     "data": {
      "image/png": "[encoded data removed]",
      "text/plain": [
       "<Figure size 432x288 with 1 Axes>"
      ]
     },
     "metadata": {
      "needs_background": "light"
     },
     "output_type": "display_data"
    }
   ],
   "source": [
    "sns.lineplot(x='Oalc', y = 'G3', data = complete_df)"
   ]
  },
  {
   "cell_type": "markdown",
   "id": "16933a9f",
   "metadata": {},
   "source": [
    "Based on the plot above, we can see that there is a negative association between overall weekly alcohol consumption and final grades. Apart from a few peaks in grades as overall alcohol consumption increases, the trend seems to be that as overall weekly alcohol consumption increases, students' final grades are lower compared to students who have a lower weekly alcohol consumption"
   ]
  },
  {
   "cell_type": "markdown",
   "id": "0fb5fb30",
   "metadata": {},
   "source": [
    "We now look at the workday alcohol consumption versus the weekend alcohol consumption and see, if separated, if they individually have effects on the final grades as seen above."
   ]
  },
  {
   "cell_type": "code",
   "execution_count": 147,
   "id": "a5f63041",
   "metadata": {},
   "outputs": [
    {
     "name": "stdout",
     "output_type": "stream",
     "text": [
      "                            OLS Regression Results                            \n",
      "==============================================================================\n",
      "Dep. Variable:                     G3   R-squared:                       0.026\n",
      "Model:                            OLS   Adj. R-squared:                  0.019\n",
      "Method:                 Least Squares   F-statistic:                     4.177\n",
      "Date:                Wed, 20 Mar 2024   Prob (F-statistic):            0.00240\n",
      "Time:                        17:15:37   Log-Likelihood:                -1572.5\n",
      "No. Observations:                 642   AIC:                             3155.\n",
      "Df Residuals:                     637   BIC:                             3177.\n",
      "Df Model:                           4                                         \n",
      "Covariance Type:            nonrobust                                         \n",
      "================================================================================\n",
      "                   coef    std err          t      P>|t|      [0.025      0.975]\n",
      "--------------------------------------------------------------------------------\n",
      "Intercept       12.0759      0.133     90.849      0.000      11.815      12.337\n",
      "C(Dalc)[T.2]    -0.5759      0.293     -1.965      0.050      -1.151      -0.000\n",
      "C(Dalc)[T.3]    -1.0092      0.440     -2.294      0.022      -1.873      -0.145\n",
      "C(Dalc)[T.4]    -1.0134      0.716     -1.416      0.157      -2.419       0.392\n",
      "C(Dalc)[T.5]    -2.0759      0.695     -2.986      0.003      -3.441      -0.711\n",
      "==============================================================================\n",
      "Omnibus:                       12.996   Durbin-Watson:                   1.731\n",
      "Prob(Omnibus):                  0.002   Jarque-Bera (JB):               11.785\n",
      "Skew:                           0.277   Prob(JB):                      0.00276\n",
      "Kurtosis:                       2.633   Cond. No.                         6.67\n",
      "==============================================================================\n",
      "\n",
      "Notes:\n",
      "[1] Standard Errors assume that the covariance matrix of the errors is correctly specified.\n"
     ]
    }
   ],
   "source": [
    "# Alcohol Consumption Spectrum OLS Regression Results\n",
    "outcome_dalc, predictors_dalc = patsy.dmatrices('G3 ~ C(Dalc)', data = complete_df)\n",
    "\n",
    "mod_dalc = sm.OLS(outcome_dalc, predictors_dalc)\n",
    "res_dalc = mod_dalc.fit()\n",
    "print(res_dalc.summary())"
   ]
  },
  {
   "cell_type": "markdown",
   "id": "f1deac6e",
   "metadata": {},
   "source": [
    "Because the p value representing Dalc at the maximum value of 0.003 is less than 0.01, the OLS regression results are sufficient enough of evidence that students who have a very high level of workday alcohol consumption compared to those who have a very low level of workday alcohol consumption affects the final grade"
   ]
  },
  {
   "cell_type": "code",
   "execution_count": 148,
   "id": "ef7e8113",
   "metadata": {},
   "outputs": [
    {
     "name": "stdout",
     "output_type": "stream",
     "text": [
      "                            OLS Regression Results                            \n",
      "==============================================================================\n",
      "Dep. Variable:                     G3   R-squared:                       0.031\n",
      "Model:                            OLS   Adj. R-squared:                  0.024\n",
      "Method:                 Least Squares   F-statistic:                     5.020\n",
      "Date:                Wed, 20 Mar 2024   Prob (F-statistic):           0.000546\n",
      "Time:                        17:15:37   Log-Likelihood:                -1570.9\n",
      "No. Observations:                 642   AIC:                             3152.\n",
      "Df Residuals:                     637   BIC:                             3174.\n",
      "Df Model:                           4                                         \n",
      "Covariance Type:            nonrobust                                         \n",
      "================================================================================\n",
      "                   coef    std err          t      P>|t|      [0.025      0.975]\n",
      "--------------------------------------------------------------------------------\n",
      "Intercept       12.2541      0.180     68.211      0.000      11.901      12.607\n",
      "C(Walc)[T.2]    -0.2196      0.294     -0.746      0.456      -0.797       0.358\n",
      "C(Walc)[T.3]    -0.6041      0.313     -1.931      0.054      -1.219       0.010\n",
      "C(Walc)[T.4]    -1.2541      0.347     -3.609      0.000      -1.936      -0.572\n",
      "C(Walc)[T.5]    -1.4132      0.460     -3.075      0.002      -2.316      -0.511\n",
      "==============================================================================\n",
      "Omnibus:                       11.252   Durbin-Watson:                   1.745\n",
      "Prob(Omnibus):                  0.004   Jarque-Bera (JB):               10.340\n",
      "Skew:                           0.259   Prob(JB):                      0.00568\n",
      "Kurtosis:                       2.657   Cond. No.                         4.91\n",
      "==============================================================================\n",
      "\n",
      "Notes:\n",
      "[1] Standard Errors assume that the covariance matrix of the errors is correctly specified.\n"
     ]
    }
   ],
   "source": [
    "# Alcohol Consumption Spectrum OLS Regression Results\n",
    "outcome_walc, predictors_walc = patsy.dmatrices('G3 ~ C(Walc)', data = complete_df)\n",
    "\n",
    "mod_walc = sm.OLS(outcome_walc, predictors_walc)\n",
    "res_walc = mod_walc.fit()\n",
    "print(res_walc.summary())"
   ]
  },
  {
   "cell_type": "markdown",
   "id": "542ca41a",
   "metadata": {},
   "source": [
    "Because the p value representing Walc at the maximum values of 0.000 and 0.002 are less than 0.01, the OLS regression results are sufficient enough of evidence that students who have a very high level of weekend alcohol consumption compared to those who have a very low level of weekend alcohol consumption affects the final grade"
   ]
  },
  {
   "cell_type": "code",
   "execution_count": 149,
   "id": "7fda7829",
   "metadata": {},
   "outputs": [],
   "source": [
    "# Set Yes's and No's to values of 1's and 0's\n",
    "complete_df.schoolsup = complete_df.schoolsup.eq('yes').mul(1)\n",
    "complete_df.famsup = complete_df.famsup.eq('yes').mul(1)\n",
    "complete_df.nursery = complete_df.nursery.eq('yes').mul(1)\n",
    "complete_df.higher = complete_df.higher.eq('yes').mul(1)"
   ]
  },
  {
   "cell_type": "markdown",
   "id": "d3dde583",
   "metadata": {},
   "source": [
    "We now look if the type of area the students live in, urban versus rural, have any effect on their academic success."
   ]
  },
  {
   "cell_type": "code",
   "execution_count": 150,
   "id": "58b86844",
   "metadata": {},
   "outputs": [
    {
     "name": "stdout",
     "output_type": "stream",
     "text": [
      "                            OLS Regression Results                            \n",
      "==============================================================================\n",
      "Dep. Variable:                     G3   R-squared:                       0.014\n",
      "Model:                            OLS   Adj. R-squared:                  0.012\n",
      "Method:                 Least Squares   F-statistic:                     8.999\n",
      "Date:                Wed, 20 Mar 2024   Prob (F-statistic):            0.00281\n",
      "Time:                        17:15:38   Log-Likelihood:                -1576.4\n",
      "No. Observations:                 642   AIC:                             3157.\n",
      "Df Residuals:                     640   BIC:                             3166.\n",
      "Df Model:                           1                                         \n",
      "Covariance Type:            nonrobust                                         \n",
      "================================================================================\n",
      "                   coef    std err          t      P>|t|      [0.025      0.975]\n",
      "--------------------------------------------------------------------------------\n",
      "Intercept       11.3053      0.205     55.189      0.000      10.903      11.708\n",
      "address[T.U]     0.7323      0.244      3.000      0.003       0.253       1.212\n",
      "==============================================================================\n",
      "Omnibus:                       11.525   Durbin-Watson:                   1.754\n",
      "Prob(Omnibus):                  0.003   Jarque-Bera (JB):               10.867\n",
      "Skew:                           0.274   Prob(JB):                      0.00437\n",
      "Kurtosis:                       2.675   Cond. No.                         3.44\n",
      "==============================================================================\n",
      "\n",
      "Notes:\n",
      "[1] Standard Errors assume that the covariance matrix of the errors is correctly specified.\n"
     ]
    }
   ],
   "source": [
    "# Urban vs. Rural OLS Regression Results\n",
    "outcome_addr, predictors_addr = patsy.dmatrices('G3 ~ address', data = complete_df)\n",
    "\n",
    "mod_addr = sm.OLS(outcome_addr, predictors_addr)\n",
    "res_addr = mod_addr.fit()\n",
    "print(res_addr.summary())"
   ]
  },
  {
   "cell_type": "markdown",
   "id": "631179dc",
   "metadata": {},
   "source": [
    "Because the p value of 0.003 is less than 0.01, the OLS regression results are sufficient enough of evidence that living in an urban area compared to a rural area affects the final grade"
   ]
  },
  {
   "cell_type": "markdown",
   "id": "31ad5f19",
   "metadata": {},
   "source": [
    "We now look if the students who receive school support and/or family support have any advantage on their academic success over students who receive no type of support."
   ]
  },
  {
   "cell_type": "code",
   "execution_count": 151,
   "id": "a3426bc1",
   "metadata": {},
   "outputs": [
    {
     "name": "stdout",
     "output_type": "stream",
     "text": [
      "                            OLS Regression Results                            \n",
      "==============================================================================\n",
      "Dep. Variable:                     G3   R-squared:                       0.013\n",
      "Model:                            OLS   Adj. R-squared:                  0.011\n",
      "Method:                 Least Squares   F-statistic:                     8.239\n",
      "Date:                Wed, 20 Mar 2024   Prob (F-statistic):            0.00424\n",
      "Time:                        17:15:38   Log-Likelihood:                -1576.7\n",
      "No. Observations:                 642   AIC:                             3157.\n",
      "Df Residuals:                     640   BIC:                             3166.\n",
      "Df Model:                           1                                         \n",
      "Covariance Type:            nonrobust                                         \n",
      "==============================================================================\n",
      "                 coef    std err          t      P>|t|      [0.025      0.975]\n",
      "------------------------------------------------------------------------------\n",
      "Intercept     11.9319      0.118    101.094      0.000      11.700      12.164\n",
      "schoolsup     -1.0334      0.360     -2.870      0.004      -1.740      -0.326\n",
      "==============================================================================\n",
      "Omnibus:                       12.237   Durbin-Watson:                   1.729\n",
      "Prob(Omnibus):                  0.002   Jarque-Bera (JB):               11.118\n",
      "Skew:                           0.268   Prob(JB):                      0.00385\n",
      "Kurtosis:                       2.641   Cond. No.                         3.27\n",
      "==============================================================================\n",
      "\n",
      "Notes:\n",
      "[1] Standard Errors assume that the covariance matrix of the errors is correctly specified.\n"
     ]
    }
   ],
   "source": [
    "# School Support vs. No Support OLS Regression Results\n",
    "outcome_school_sup, predictors_school_sup = patsy.dmatrices('G3 ~ schoolsup', data = complete_df)\n",
    "\n",
    "mod_school_sup = sm.OLS(outcome_school_sup, predictors_school_sup)\n",
    "res_school_sup = mod_school_sup.fit()\n",
    "print(res_school_sup.summary())"
   ]
  },
  {
   "cell_type": "markdown",
   "id": "02ee7e08",
   "metadata": {},
   "source": [
    "Because the p value of 0.004 is greater than 0.01, the OLS regression results are sufficient enough of evidence that having support from the school or not affects the final grade"
   ]
  },
  {
   "cell_type": "code",
   "execution_count": 152,
   "id": "21851db4",
   "metadata": {},
   "outputs": [
    {
     "name": "stdout",
     "output_type": "stream",
     "text": [
      "                            OLS Regression Results                            \n",
      "==============================================================================\n",
      "Dep. Variable:                     G3   R-squared:                       0.002\n",
      "Model:                            OLS   Adj. R-squared:                 -0.000\n",
      "Method:                 Least Squares   F-statistic:                    0.9644\n",
      "Date:                Wed, 20 Mar 2024   Prob (F-statistic):              0.326\n",
      "Time:                        17:15:38   Log-Likelihood:                -1580.4\n",
      "No. Observations:                 642   AIC:                             3165.\n",
      "Df Residuals:                     640   BIC:                             3174.\n",
      "Df Model:                           1                                         \n",
      "Covariance Type:            nonrobust                                         \n",
      "==============================================================================\n",
      "                 coef    std err          t      P>|t|      [0.025      0.975]\n",
      "------------------------------------------------------------------------------\n",
      "Intercept     11.9597      0.180     66.288      0.000      11.605      12.314\n",
      "famsup        -0.2262      0.230     -0.982      0.326      -0.678       0.226\n",
      "==============================================================================\n",
      "Omnibus:                       13.934   Durbin-Watson:                   1.740\n",
      "Prob(Omnibus):                  0.001   Jarque-Bera (JB):               12.938\n",
      "Skew:                           0.298   Prob(JB):                      0.00155\n",
      "Kurtosis:                       2.643   Cond. No.                         2.98\n",
      "==============================================================================\n",
      "\n",
      "Notes:\n",
      "[1] Standard Errors assume that the covariance matrix of the errors is correctly specified.\n"
     ]
    }
   ],
   "source": [
    "# Family Support vs. No Support OLS Regression Results\n",
    "outcome_fam_sup, predictors_fam_sup = patsy.dmatrices('G3 ~ famsup', data = complete_df)\n",
    "\n",
    "mod_fam_sup = sm.OLS(outcome_fam_sup, predictors_fam_sup)\n",
    "res_fam_sup = mod_fam_sup.fit()\n",
    "print(res_fam_sup.summary())"
   ]
  },
  {
   "cell_type": "markdown",
   "id": "3c92e532",
   "metadata": {},
   "source": [
    "Because the p value of 0.326 is greater than 0.01, the OLS regression results are sufficient enough of evidence that having support from family or not does not affects the final grade"
   ]
  },
  {
   "cell_type": "markdown",
   "id": "76f843f6",
   "metadata": {},
   "source": [
    "We now look if the students who are wanting to pursue higher education or are in nursery have better academic success than those who are not."
   ]
  },
  {
   "cell_type": "code",
   "execution_count": 153,
   "id": "7f4a4804",
   "metadata": {},
   "outputs": [
    {
     "name": "stdout",
     "output_type": "stream",
     "text": [
      "                            OLS Regression Results                            \n",
      "==============================================================================\n",
      "Dep. Variable:                     G3   R-squared:                       0.065\n",
      "Model:                            OLS   Adj. R-squared:                  0.064\n",
      "Method:                 Least Squares   F-statistic:                     44.62\n",
      "Date:                Wed, 20 Mar 2024   Prob (F-statistic):           5.21e-11\n",
      "Time:                        17:15:38   Log-Likelihood:                -1559.2\n",
      "No. Observations:                 642   AIC:                             3122.\n",
      "Df Residuals:                     640   BIC:                             3131.\n",
      "Df Model:                           1                                         \n",
      "Covariance Type:            nonrobust                                         \n",
      "==============================================================================\n",
      "                 coef    std err          t      P>|t|      [0.025      0.975]\n",
      "------------------------------------------------------------------------------\n",
      "Intercept      9.6615      0.341     28.333      0.000       8.992      10.331\n",
      "higher         2.4026      0.360      6.680      0.000       1.696       3.109\n",
      "==============================================================================\n",
      "Omnibus:                        7.761   Durbin-Watson:                   1.796\n",
      "Prob(Omnibus):                  0.021   Jarque-Bera (JB):                7.292\n",
      "Skew:                           0.216   Prob(JB):                       0.0261\n",
      "Kurtosis:                       2.706   Cond. No.                         6.13\n",
      "==============================================================================\n",
      "\n",
      "Notes:\n",
      "[1] Standard Errors assume that the covariance matrix of the errors is correctly specified.\n"
     ]
    }
   ],
   "source": [
    "# Higher Education vs. No Intent/Activity OLS Regression Results\n",
    "outcome_higher, predictors_higher = patsy.dmatrices('G3 ~ higher', data = complete_df)\n",
    "\n",
    "mod_higher = sm.OLS(outcome_higher, predictors_higher)\n",
    "res_higher = mod_higher.fit()\n",
    "print(res_higher.summary())"
   ]
  },
  {
   "cell_type": "markdown",
   "id": "215d6e1d",
   "metadata": {},
   "source": [
    "Because the p value of 0.000 is less than 0.01, the OLS regression results are sufficient enough of evidence that wanting to pursue a higher education or not affects the final grade"
   ]
  },
  {
   "cell_type": "code",
   "execution_count": 154,
   "id": "b9be9fa6",
   "metadata": {
    "scrolled": true
   },
   "outputs": [
    {
     "name": "stdout",
     "output_type": "stream",
     "text": [
      "                            OLS Regression Results                            \n",
      "==============================================================================\n",
      "Dep. Variable:                     G3   R-squared:                       0.000\n",
      "Model:                            OLS   Adj. R-squared:                 -0.001\n",
      "Method:                 Least Squares   F-statistic:                    0.2864\n",
      "Date:                Wed, 20 Mar 2024   Prob (F-statistic):              0.593\n",
      "Time:                        17:15:38   Log-Likelihood:                -1580.7\n",
      "No. Observations:                 642   AIC:                             3165.\n",
      "Df Residuals:                     640   BIC:                             3174.\n",
      "Df Model:                           1                                         \n",
      "Covariance Type:            nonrobust                                         \n",
      "==============================================================================\n",
      "                 coef    std err          t      P>|t|      [0.025      0.975]\n",
      "------------------------------------------------------------------------------\n",
      "Intercept     11.7023      0.248     47.115      0.000      11.215      12.190\n",
      "nursery        0.1490      0.278      0.535      0.593      -0.398       0.696\n",
      "==============================================================================\n",
      "Omnibus:                       13.004   Durbin-Watson:                   1.747\n",
      "Prob(Omnibus):                  0.002   Jarque-Bera (JB):               12.096\n",
      "Skew:                           0.288   Prob(JB):                      0.00236\n",
      "Kurtosis:                       2.652   Cond. No.                         4.22\n",
      "==============================================================================\n",
      "\n",
      "Notes:\n",
      "[1] Standard Errors assume that the covariance matrix of the errors is correctly specified.\n"
     ]
    }
   ],
   "source": [
    "# Higher Education vs. No Intent/Activity OLS Regression Results\n",
    "outcome_nursery, predictors_nursery = patsy.dmatrices('G3 ~ nursery', data = complete_df)\n",
    "\n",
    "mod_nursery = sm.OLS(outcome_nursery, predictors_nursery)\n",
    "res_nursery = mod_nursery.fit()\n",
    "print(res_nursery.summary())"
   ]
  },
  {
   "cell_type": "markdown",
   "id": "ac1d9ec0",
   "metadata": {},
   "source": [
    "Because the p value of 0.593 is greater than 0.01, the OLS regression results are sufficient enough of evidence that being in the nursery or not does not affects the final grade"
   ]
  },
  {
   "cell_type": "markdown",
   "id": "d50add26",
   "metadata": {},
   "source": [
    "## Predictive Modeling\n",
    "\n",
    "With the knowledge garnered from our first two steps of EDA, we want to build a predictive model that can predict whether a student will pass (grade of 10+) or fail (grade of <10) their class."
   ]
  },
  {
   "cell_type": "code",
   "execution_count": 155,
   "id": "868e4ac8",
   "metadata": {},
   "outputs": [],
   "source": [
    "## YOUR CODE HERE\n",
    "complete_df.reset_index(drop = True, inplace = True)\n",
    "complete_df = complete_df.sample(frac=1)\n",
    "\n",
    "complete_df.schoolsup = complete_df.schoolsup.eq('yes').mul(1)\n",
    "complete_df.famsup = complete_df.famsup.eq('yes').mul(1)\n",
    "complete_df.nursery = complete_df.nursery.eq('yes').mul(1)\n",
    "complete_df.higher = complete_df.higher.eq('yes').mul(1)\n",
    "complete_df.address = complete_df.address.eq('U').mul(1)\n",
    "complete_df.internet = complete_df.internet.eq('yes').mul(1)## FEEL FREE TO ADD MULTIPLE CELLS PER SECTION"
   ]
  },
  {
   "cell_type": "code",
   "execution_count": 156,
   "id": "77971d04",
   "metadata": {},
   "outputs": [],
   "source": [
    "def pass_or_fail(grades):\n",
    "    if grades >= 10:\n",
    "        return 'P'\n",
    "    else:\n",
    "        return 'F'"
   ]
  },
  {
   "cell_type": "markdown",
   "id": "c7574c33",
   "metadata": {},
   "source": [
    "For our predictors, we used variables we found to be statistically significant in our regression analysis."
   ]
  },
  {
   "cell_type": "code",
   "execution_count": 157,
   "id": "4aab5257",
   "metadata": {},
   "outputs": [],
   "source": [
    "grade_X = complete_df[['schoolsup', 'famsup', 'nursery', 'Dalc', 'Walc', 'Fedu', 'Medu', 'failures', 'absences', 'freetime']]\n",
    "grade_Y = np.array(complete_df['G3'].apply(pass_or_fail))"
   ]
  },
  {
   "cell_type": "code",
   "execution_count": 158,
   "id": "dbd1023c",
   "metadata": {},
   "outputs": [],
   "source": [
    "grade_train_X, grade_test_X, grade_train_Y, grade_test_Y = train_test_split(grade_X, grade_Y, test_size=0.2, random_state=42)\n"
   ]
  },
  {
   "cell_type": "markdown",
   "id": "2695395f",
   "metadata": {},
   "source": [
    "Because our classes were imbalanced, we reweighted them so that the classifier would not overpredict passes."
   ]
  },
  {
   "cell_type": "code",
   "execution_count": 159,
   "id": "daa314ca",
   "metadata": {},
   "outputs": [],
   "source": [
    "def train_SVM_weights(X, y, kernel='linear', weights = {\"F\": 3, \"P\": 1}):\n",
    "    clf = SVC(kernel=kernel, class_weight = weights)\n",
    "    clf.fit(X, y)\n",
    "    \n",
    "    return clf"
   ]
  },
  {
   "cell_type": "code",
   "execution_count": 160,
   "id": "f53ee44c",
   "metadata": {},
   "outputs": [],
   "source": [
    "grade_clf = train_SVM_weights(grade_train_X, grade_train_Y)"
   ]
  },
  {
   "cell_type": "code",
   "execution_count": 161,
   "id": "45b4f2c3",
   "metadata": {},
   "outputs": [],
   "source": [
    "grade_predicted_train_Y = grade_clf.predict(grade_train_X)\n",
    "grade_predicted_test_Y = grade_clf.predict(grade_test_X)"
   ]
  },
  {
   "cell_type": "code",
   "execution_count": 162,
   "id": "41486222",
   "metadata": {},
   "outputs": [
    {
     "name": "stdout",
     "output_type": "stream",
     "text": [
      "              precision    recall  f1-score   support\n",
      "\n",
      "           F       0.46      0.41      0.43       102\n",
      "           P       0.86      0.88      0.87       411\n",
      "\n",
      "    accuracy                           0.79       513\n",
      "   macro avg       0.66      0.65      0.65       513\n",
      "weighted avg       0.78      0.79      0.78       513\n",
      "\n"
     ]
    }
   ],
   "source": [
    "class_report_train = classification_report(grade_train_Y, grade_predicted_train_Y)\n",
    "print(class_report_train)"
   ]
  },
  {
   "cell_type": "code",
   "execution_count": 163,
   "id": "2451b2df",
   "metadata": {},
   "outputs": [],
   "source": [
    "conf_mat_train = confusion_matrix(grade_train_Y, grade_predicted_train_Y, normalize=\"all\")"
   ]
  },
  {
   "cell_type": "code",
   "execution_count": 164,
   "id": "78e578cf",
   "metadata": {},
   "outputs": [
    {
     "data": {
      "text/plain": [
       "<sklearn.metrics._plot.confusion_matrix.ConfusionMatrixDisplay at 0x1e18821cee0>"
      ]
     },
     "execution_count": 164,
     "metadata": {},
     "output_type": "execute_result"
    },
    {
     "data": {
      "image/png": "[encoded data removed]",
      "text/plain": [
       "<Figure size 432x288 with 2 Axes>"
      ]
     },
     "metadata": {
      "needs_background": "light"
     },
     "output_type": "display_data"
    }
   ],
   "source": [
    "cmd = ConfusionMatrixDisplay(conf_mat_train, display_labels=[\"fail\", \"pass\"])\n",
    "cmd.plot()"
   ]
  },
  {
   "cell_type": "code",
   "execution_count": 165,
   "id": "e818ca47",
   "metadata": {},
   "outputs": [
    {
     "name": "stdout",
     "output_type": "stream",
     "text": [
      "              precision    recall  f1-score   support\n",
      "\n",
      "           F       0.50      0.48      0.49        23\n",
      "           P       0.89      0.90      0.89       106\n",
      "\n",
      "    accuracy                           0.82       129\n",
      "   macro avg       0.69      0.69      0.69       129\n",
      "weighted avg       0.82      0.82      0.82       129\n",
      "\n"
     ]
    }
   ],
   "source": [
    "class_report_test = classification_report(grade_test_Y, grade_predicted_test_Y)\n",
    "print(class_report_test)"
   ]
  },
  {
   "cell_type": "markdown",
   "id": "f212dcc9",
   "metadata": {},
   "source": [
    "Our confusion matrix for our test and training data are fairly similar, which is a good sign as it indicates no overfitting occured. The majority of our correctly predicted observations were passes, which makes sense as it was the larger class."
   ]
  },
  {
   "cell_type": "code",
   "execution_count": 166,
   "id": "e9dbe3ae",
   "metadata": {},
   "outputs": [
    {
     "data": {
      "text/plain": [
       "<sklearn.metrics._plot.confusion_matrix.ConfusionMatrixDisplay at 0x1e186b1ee50>"
      ]
     },
     "execution_count": 166,
     "metadata": {},
     "output_type": "execute_result"
    },
    {
     "data": {
      "image/png": "[encoded data removed]",
      "text/plain": [
       "<Figure size 432x288 with 2 Axes>"
      ]
     },
     "metadata": {
      "needs_background": "light"
     },
     "output_type": "display_data"
    }
   ],
   "source": [
    "conf_mat_test = confusion_matrix(grade_test_Y, grade_predicted_test_Y, normalize=\"all\")\n",
    "cmd = ConfusionMatrixDisplay(conf_mat_test, display_labels=[\"fail\", \"pass\"])\n",
    "cmd.plot()"
   ]
  },
  {
   "cell_type": "markdown",
   "id": "1e3e55da",
   "metadata": {},
   "source": [
    "# Ethics & Privacy"
   ]
  },
  {
   "cell_type": "markdown",
   "id": "7fe08e4b",
   "metadata": {},
   "source": [
    "The data that we will be using for this project is allowed for public access and use, meaning no direct permission is needed. The dataset is from https://www.kaggle.com/datasets/uciml/student-alcohol-consumption, which is an open-sourced dataset website. The data has been accumulated by UC Irvine's Machine Learning Repository. As an accumulation of data regarding student and parent information, we are confident that the data we used hold no risk to the students and parents themselves because no names are included in the dataset. Although more of one school is represented in the dataset than the other, we believe that this difference should not make the dataset more biased towards one school than the other, nor should there be any issues with bias in the dataset used in this project. However, the uploader of the data is a random person who used UCI Machine Learning's data, so the individual is capable of acting unethically, and such unintended consequences resulting from such acts should be considered."
   ]
  },
  {
   "cell_type": "markdown",
   "id": "4b5c0788",
   "metadata": {},
   "source": [
    "# Discussion and Conclusion\n",
    "\n",
    "Using the OLS regression model on the dataset when looking to analyze the final grades of the students based on how much or how little they drink, we see that higher levels of alcohol consumption have had negative effects on the final grades compared to lower levels of alcohol consumption.  Looking at the OLS regression results for both the workday alcohol consumption (Dalc) and the weekend alcohol consumption (Walc), we can see that, with their p-values being smaller than the threshold value of 0.01, that there is statistically significant evidence that they affect the final grades.  However, with the R-squared values of both the workday alcohol consumption's and the weekend alcohol consumption's OLS regression being low supports the idea that there are other factors that affect the final grades of these students.\n",
    "\n",
    "Based on the relationship between final grades and overall weekly alcohol consumption, we find that there is a negative association between overall weekly alcohol consumption and final grades. From the OLS results, like with the separate relationships between weekly and weekend alcohol consumption and final grades, since the p-values are smaller than the threshold of 0.01, there is statistically significant evidence that overall weekly alcohol consumption affects final grades, but however, similar to the measures between weekly and weekend alcohol consumption and final grades, the low R-squared values show that there are other factors at play that affect students' final grades.\n",
    "\n",
    "We ran into some limitations in our project. The first limitation we ran into is we only found one dataset that matched both alchohol consumption and student performance, where some other datasets we ran into gave us a lot of data for alcohol consuption, but not a lot of data with student performance correlated with consumption. Another limitation we ran into is our sample is not a good representaion as a whole. The sample is collected from secondary schools, where many of the students are not old enought to consume alcohol. The sample does not seem like the best representation if we wanted to genderalize to a more broad audience. If we were to analyze this study again, we would maybe generalize the question to if higher level of alcohol consumption negatively correlate with success, with the measurement being salary. Another possible way we would approach this is to collect data from the class and compare class data with data we originally found. Another analysis we would perform is how various interventions and effectiveness of reducing alcohol consumption and improving academic performance.\n",
    "\n",
    "After conducting comprehensive data analysis utilizing exploratory data analysis (EDA), ordinary least squares (OLS) regression, and predictive modeling, our findings indicate a negative correlation between increased levels of alcohol consumption and academic performance. Our research underscores the importance for educational institutions to integrate academic support programs and educational initiatives aimed at informing students about the detrimental effects of alcohol consumption on their academic achievements. However, it's important to acknowledge the limitations of our study, recognizing that our data may not be wholly representative of broader populations. For future research, we advocate for comparative analysis across diverse factors and exploration of potential interventions that could positively impact academic performance. This approach will provide a more nuanced understanding of the complex interplay between various variables and their influence on student academic outcomes.\n",
    "\n",
    "In order to predict whether or not a student will succeed based on their final grades (G3), we used the scikit-learn library in order to utilize machine learning to predict whether or not a student passes or fails.  A student passes if they score a score of 10 or higher (out of 20), and a student fails if they score less than 10.  When using the prediction model on the train data, however, we found that the classification report showed a 46% precision for the fails and a 87% precision for the passes, and the classification report on the prediction model on the test data showed a 50% precision for the fails and 86% precision for the passes.  Knowing this, the prediction model might be useful when trying to determine whether or not a student my succeed.  However, it will be unreliable when trying to determine whether or not a student will fail.\n",
    "\n",
    "# Team Contributions\n",
    "\n",
    "Speficy who did what.  This should be pretty granular, perhaps bullet points, no more than a few sentences per person."
   ]
  },
  {
   "cell_type": "markdown",
   "id": "60ff35ab",
   "metadata": {},
   "source": [
    "- Ji Hong Cha: wrote part of Discussion and Conclusion, wrote Ethics & Privacy, wrote 1st part of Predictive Modeling, analyzed the address, schoolsup, famsup, higher, and nursery factors of the EDA\n",
    "\n",
    "- Annie Tang: wrote part of the EDA analysis (go out), wrote part of the discussion and conclusion, helped with finding outliers of the dataset, cleaned up the project\n",
    "\n",
    "- Victor Hsiao: wrote the Background + Prior Work section, wrote part of the discussion and conclusion, analyzed the internet, paid, Oalc (Walc + Dalc columns), and absences factors of the EDA\n",
    "\n",
    "- Sheily Lim: did data wrangling, contributed to EDA, wrote part of abstract, worked on predictive modeling, organized slides for presentation\n",
    "\n",
    "- Ka Chun Leung: Did Research Questions, Hypothesis, part of Abstract, data wrangling, analyzed mother education, father education, parental education of the EDAs"
   ]
  }
 ],
 "metadata": {
  "kernelspec": {
   "display_name": "Python 3 (ipykernel)",
   "language": "python",
   "name": "python3"
  },
  "language_info": {
   "codemirror_mode": {
    "name": "ipython",
    "version": 3
   },
   "file_extension": ".py",
   "mimetype": "text/x-python",
   "name": "python",
   "nbconvert_exporter": "python",
   "pygments_lexer": "ipython3",
   "version": "3.9.6"
  }
 },
 "nbformat": 4,
 "nbformat_minor": 5
}
